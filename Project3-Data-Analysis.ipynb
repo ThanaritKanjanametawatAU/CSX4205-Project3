{
 "cells": [
  {
   "cell_type": "markdown",
   "source": [
    "# **Big Data Analytics Project 3: Semi-Structure Data Analytics**\n",
    "# Thanarit Kanjanametawat ID:6410322"
   ],
   "metadata": {
    "collapsed": false
   },
   "id": "f1eca079aa58363"
  },
  {
   "cell_type": "markdown",
   "source": [
    "# 0. Data Ingestion"
   ],
   "metadata": {
    "collapsed": false
   },
   "id": "bed0c78f4c604a54"
  },
  {
   "cell_type": "markdown",
   "source": [
    "## 0.1 Read the exported sales collection (JSON file)"
   ],
   "metadata": {
    "collapsed": false
   },
   "id": "b24e0d6e3f0d4900"
  },
  {
   "cell_type": "code",
   "execution_count": 43,
   "outputs": [
    {
     "ename": "ValueError",
     "evalue": "Expected object or value",
     "output_type": "error",
     "traceback": [
      "\u001B[1;31m---------------------------------------------------------------------------\u001B[0m",
      "\u001B[1;31mValueError\u001B[0m                                Traceback (most recent call last)",
      "Cell \u001B[1;32mIn[43], line 5\u001B[0m\n\u001B[0;32m      1\u001B[0m \u001B[38;5;28;01mimport\u001B[39;00m \u001B[38;5;21;01mjson\u001B[39;00m\n\u001B[0;32m      2\u001B[0m \u001B[38;5;28;01mimport\u001B[39;00m \u001B[38;5;21;01mpandas\u001B[39;00m \u001B[38;5;28;01mas\u001B[39;00m \u001B[38;5;21;01mpd\u001B[39;00m\n\u001B[1;32m----> 5\u001B[0m sales_df \u001B[38;5;241m=\u001B[39m \u001B[43mpd\u001B[49m\u001B[38;5;241;43m.\u001B[39;49m\u001B[43mread_json\u001B[49m\u001B[43m(\u001B[49m\u001B[38;5;124;43m'\u001B[39;49m\u001B[38;5;124;43msales.json\u001B[39;49m\u001B[38;5;124;43m'\u001B[39;49m\u001B[43m,\u001B[49m\u001B[43m \u001B[49m\u001B[43mlines\u001B[49m\u001B[38;5;241;43m=\u001B[39;49m\u001B[38;5;28;43;01mTrue\u001B[39;49;00m\u001B[43m)\u001B[49m\n\u001B[0;32m      6\u001B[0m sales_df\u001B[38;5;241m.\u001B[39mhead()\n",
      "File \u001B[1;32mD:\\Python3114\\Lib\\site-packages\\pandas\\io\\json\\_json.py:784\u001B[0m, in \u001B[0;36mread_json\u001B[1;34m(path_or_buf, orient, typ, dtype, convert_axes, convert_dates, keep_default_dates, precise_float, date_unit, encoding, encoding_errors, lines, chunksize, compression, nrows, storage_options, dtype_backend, engine)\u001B[0m\n\u001B[0;32m    782\u001B[0m     \u001B[38;5;28;01mreturn\u001B[39;00m json_reader\n\u001B[0;32m    783\u001B[0m \u001B[38;5;28;01melse\u001B[39;00m:\n\u001B[1;32m--> 784\u001B[0m     \u001B[38;5;28;01mreturn\u001B[39;00m \u001B[43mjson_reader\u001B[49m\u001B[38;5;241;43m.\u001B[39;49m\u001B[43mread\u001B[49m\u001B[43m(\u001B[49m\u001B[43m)\u001B[49m\n",
      "File \u001B[1;32mD:\\Python3114\\Lib\\site-packages\\pandas\\io\\json\\_json.py:973\u001B[0m, in \u001B[0;36mJsonReader.read\u001B[1;34m(self)\u001B[0m\n\u001B[0;32m    971\u001B[0m         data \u001B[38;5;241m=\u001B[39m ensure_str(\u001B[38;5;28mself\u001B[39m\u001B[38;5;241m.\u001B[39mdata)\n\u001B[0;32m    972\u001B[0m         data_lines \u001B[38;5;241m=\u001B[39m data\u001B[38;5;241m.\u001B[39msplit(\u001B[38;5;124m\"\u001B[39m\u001B[38;5;130;01m\\n\u001B[39;00m\u001B[38;5;124m\"\u001B[39m)\n\u001B[1;32m--> 973\u001B[0m         obj \u001B[38;5;241m=\u001B[39m \u001B[38;5;28;43mself\u001B[39;49m\u001B[38;5;241;43m.\u001B[39;49m\u001B[43m_get_object_parser\u001B[49m\u001B[43m(\u001B[49m\u001B[38;5;28;43mself\u001B[39;49m\u001B[38;5;241;43m.\u001B[39;49m\u001B[43m_combine_lines\u001B[49m\u001B[43m(\u001B[49m\u001B[43mdata_lines\u001B[49m\u001B[43m)\u001B[49m\u001B[43m)\u001B[49m\n\u001B[0;32m    974\u001B[0m \u001B[38;5;28;01melse\u001B[39;00m:\n\u001B[0;32m    975\u001B[0m     obj \u001B[38;5;241m=\u001B[39m \u001B[38;5;28mself\u001B[39m\u001B[38;5;241m.\u001B[39m_get_object_parser(\u001B[38;5;28mself\u001B[39m\u001B[38;5;241m.\u001B[39mdata)\n",
      "File \u001B[1;32mD:\\Python3114\\Lib\\site-packages\\pandas\\io\\json\\_json.py:1001\u001B[0m, in \u001B[0;36mJsonReader._get_object_parser\u001B[1;34m(self, json)\u001B[0m\n\u001B[0;32m    999\u001B[0m obj \u001B[38;5;241m=\u001B[39m \u001B[38;5;28;01mNone\u001B[39;00m\n\u001B[0;32m   1000\u001B[0m \u001B[38;5;28;01mif\u001B[39;00m typ \u001B[38;5;241m==\u001B[39m \u001B[38;5;124m\"\u001B[39m\u001B[38;5;124mframe\u001B[39m\u001B[38;5;124m\"\u001B[39m:\n\u001B[1;32m-> 1001\u001B[0m     obj \u001B[38;5;241m=\u001B[39m \u001B[43mFrameParser\u001B[49m\u001B[43m(\u001B[49m\u001B[43mjson\u001B[49m\u001B[43m,\u001B[49m\u001B[43m \u001B[49m\u001B[38;5;241;43m*\u001B[39;49m\u001B[38;5;241;43m*\u001B[39;49m\u001B[43mkwargs\u001B[49m\u001B[43m)\u001B[49m\u001B[38;5;241;43m.\u001B[39;49m\u001B[43mparse\u001B[49m\u001B[43m(\u001B[49m\u001B[43m)\u001B[49m\n\u001B[0;32m   1003\u001B[0m \u001B[38;5;28;01mif\u001B[39;00m typ \u001B[38;5;241m==\u001B[39m \u001B[38;5;124m\"\u001B[39m\u001B[38;5;124mseries\u001B[39m\u001B[38;5;124m\"\u001B[39m \u001B[38;5;129;01mor\u001B[39;00m obj \u001B[38;5;129;01mis\u001B[39;00m \u001B[38;5;28;01mNone\u001B[39;00m:\n\u001B[0;32m   1004\u001B[0m     \u001B[38;5;28;01mif\u001B[39;00m \u001B[38;5;129;01mnot\u001B[39;00m \u001B[38;5;28misinstance\u001B[39m(dtype, \u001B[38;5;28mbool\u001B[39m):\n",
      "File \u001B[1;32mD:\\Python3114\\Lib\\site-packages\\pandas\\io\\json\\_json.py:1134\u001B[0m, in \u001B[0;36mParser.parse\u001B[1;34m(self)\u001B[0m\n\u001B[0;32m   1133\u001B[0m \u001B[38;5;28;01mdef\u001B[39;00m \u001B[38;5;21mparse\u001B[39m(\u001B[38;5;28mself\u001B[39m):\n\u001B[1;32m-> 1134\u001B[0m     \u001B[38;5;28;43mself\u001B[39;49m\u001B[38;5;241;43m.\u001B[39;49m\u001B[43m_parse\u001B[49m\u001B[43m(\u001B[49m\u001B[43m)\u001B[49m\n\u001B[0;32m   1136\u001B[0m     \u001B[38;5;28;01mif\u001B[39;00m \u001B[38;5;28mself\u001B[39m\u001B[38;5;241m.\u001B[39mobj \u001B[38;5;129;01mis\u001B[39;00m \u001B[38;5;28;01mNone\u001B[39;00m:\n\u001B[0;32m   1137\u001B[0m         \u001B[38;5;28;01mreturn\u001B[39;00m \u001B[38;5;28;01mNone\u001B[39;00m\n",
      "File \u001B[1;32mD:\\Python3114\\Lib\\site-packages\\pandas\\io\\json\\_json.py:1320\u001B[0m, in \u001B[0;36mFrameParser._parse\u001B[1;34m(self)\u001B[0m\n\u001B[0;32m   1316\u001B[0m orient \u001B[38;5;241m=\u001B[39m \u001B[38;5;28mself\u001B[39m\u001B[38;5;241m.\u001B[39morient\n\u001B[0;32m   1318\u001B[0m \u001B[38;5;28;01mif\u001B[39;00m orient \u001B[38;5;241m==\u001B[39m \u001B[38;5;124m\"\u001B[39m\u001B[38;5;124mcolumns\u001B[39m\u001B[38;5;124m\"\u001B[39m:\n\u001B[0;32m   1319\u001B[0m     \u001B[38;5;28mself\u001B[39m\u001B[38;5;241m.\u001B[39mobj \u001B[38;5;241m=\u001B[39m DataFrame(\n\u001B[1;32m-> 1320\u001B[0m         \u001B[43mloads\u001B[49m\u001B[43m(\u001B[49m\u001B[43mjson\u001B[49m\u001B[43m,\u001B[49m\u001B[43m \u001B[49m\u001B[43mprecise_float\u001B[49m\u001B[38;5;241;43m=\u001B[39;49m\u001B[38;5;28;43mself\u001B[39;49m\u001B[38;5;241;43m.\u001B[39;49m\u001B[43mprecise_float\u001B[49m\u001B[43m)\u001B[49m, dtype\u001B[38;5;241m=\u001B[39m\u001B[38;5;28;01mNone\u001B[39;00m\n\u001B[0;32m   1321\u001B[0m     )\n\u001B[0;32m   1322\u001B[0m \u001B[38;5;28;01melif\u001B[39;00m orient \u001B[38;5;241m==\u001B[39m \u001B[38;5;124m\"\u001B[39m\u001B[38;5;124msplit\u001B[39m\u001B[38;5;124m\"\u001B[39m:\n\u001B[0;32m   1323\u001B[0m     decoded \u001B[38;5;241m=\u001B[39m {\n\u001B[0;32m   1324\u001B[0m         \u001B[38;5;28mstr\u001B[39m(k): v\n\u001B[0;32m   1325\u001B[0m         \u001B[38;5;28;01mfor\u001B[39;00m k, v \u001B[38;5;129;01min\u001B[39;00m loads(json, precise_float\u001B[38;5;241m=\u001B[39m\u001B[38;5;28mself\u001B[39m\u001B[38;5;241m.\u001B[39mprecise_float)\u001B[38;5;241m.\u001B[39mitems()\n\u001B[0;32m   1326\u001B[0m     }\n",
      "\u001B[1;31mValueError\u001B[0m: Expected object or value"
     ]
    }
   ],
   "source": [
    "import json\n",
    "import pandas as pd\n",
    "\n",
    "\n",
    "sales_df = pd.read_json('sales.json', lines=True)\n",
    "sales_df.head()"
   ],
   "metadata": {
    "collapsed": false,
    "ExecuteTime": {
     "end_time": "2023-10-14T12:21:55.154745500Z",
     "start_time": "2023-10-14T12:21:54.794891300Z"
    }
   },
   "id": "b2d0fe51739da1c4"
  },
  {
   "cell_type": "markdown",
   "source": [
    "## 0.2 Observe the features that are needed"
   ],
   "metadata": {
    "collapsed": false
   },
   "id": "570e4bf28bf0eed"
  },
  {
   "cell_type": "code",
   "execution_count": 15,
   "outputs": [
    {
     "data": {
      "text/plain": "_id               object\ncouponUsed          bool\ncustomer          object\nitems             object\npurchaseMethod    object\nsaleDate          object\nstoreLocation     object\ndtype: object"
     },
     "execution_count": 15,
     "metadata": {},
     "output_type": "execute_result"
    }
   ],
   "source": [
    "sales_df.dtypes"
   ],
   "metadata": {
    "collapsed": false,
    "ExecuteTime": {
     "end_time": "2023-10-14T10:46:41.388862100Z",
     "start_time": "2023-10-14T10:46:41.374834Z"
    }
   },
   "id": "5c9442cfa7ba68bb"
  },
  {
   "cell_type": "markdown",
   "source": [
    "### 0.2.1 Customer (Need satisfaction for Query 3 and gender for Query 4)"
   ],
   "metadata": {
    "collapsed": false
   },
   "id": "febbfea032c937"
  },
  {
   "cell_type": "code",
   "execution_count": 6,
   "outputs": [
    {
     "data": {
      "text/plain": "0    {gender=M, age=50, email=keecade@hem.uy, satis...\n1    {gender=M, age=44, email=owtar@pu.cd, satisfac...\n2    {gender=M, age=57, email=ohaguwu@nufub.gi, sat...\n3    {gender=F, age=54, email=civma@rozfon.tr, sati...\n4    {gender=M, age=42, email=cauho@witwuta.sv, sat...\nName: customer, dtype: object"
     },
     "execution_count": 6,
     "metadata": {},
     "output_type": "execute_result"
    }
   ],
   "source": [
    "sales_df['customer'].head()"
   ],
   "metadata": {
    "collapsed": false,
    "ExecuteTime": {
     "end_time": "2023-10-14T10:39:22.940310300Z",
     "start_time": "2023-10-14T10:39:22.921471800Z"
    }
   },
   "id": "7d4feb6d55c5f50c"
  },
  {
   "cell_type": "code",
   "execution_count": 7,
   "outputs": [
    {
     "data": {
      "text/plain": "str"
     },
     "execution_count": 7,
     "metadata": {},
     "output_type": "execute_result"
    }
   ],
   "source": [
    "type(sales_df['customer'][0])"
   ],
   "metadata": {
    "collapsed": false,
    "ExecuteTime": {
     "end_time": "2023-10-14T10:39:46.254917600Z",
     "start_time": "2023-10-14T10:39:46.235250200Z"
    }
   },
   "id": "cbcd11a4f6533fd9"
  },
  {
   "cell_type": "markdown",
   "source": [
    "### 0.2.2 Items (Need name, price, quantity for Query 1, 2)"
   ],
   "metadata": {
    "collapsed": false
   },
   "id": "e4e69f4d6636deb0"
  },
  {
   "cell_type": "code",
   "execution_count": 2,
   "outputs": [
    {
     "data": {
      "text/plain": "0    [{name=envelopes, tags=[stationary, office, ge...\n1    [{name=binder, tags=[school, general, organiza...\n2    [{name=pens, tags=[writing, office, school, st...\n3    [{name=backpack, tags=[school, travel, kids], ...\n4    [{name=printer paper, tags=[office, stationary...\nName: items, dtype: object"
     },
     "execution_count": 2,
     "metadata": {},
     "output_type": "execute_result"
    }
   ],
   "source": [
    "sales_df['items'].head()"
   ],
   "metadata": {
    "collapsed": false,
    "ExecuteTime": {
     "end_time": "2023-10-14T10:19:37.869571200Z",
     "start_time": "2023-10-14T10:19:37.862900400Z"
    }
   },
   "id": "b7cb04558de008d"
  },
  {
   "cell_type": "code",
   "execution_count": 5,
   "outputs": [
    {
     "data": {
      "text/plain": "str"
     },
     "execution_count": 5,
     "metadata": {},
     "output_type": "execute_result"
    }
   ],
   "source": [
    "type(sales_df['items'][0])"
   ],
   "metadata": {
    "collapsed": false,
    "ExecuteTime": {
     "end_time": "2023-10-14T10:37:46.915804Z",
     "start_time": "2023-10-14T10:37:46.897188700Z"
    }
   },
   "id": "8b1db21bc225a317"
  },
  {
   "cell_type": "markdown",
   "source": [
    "### 0.2.3 Purchase Method (Need for Query 4)"
   ],
   "metadata": {
    "collapsed": false
   },
   "id": "5bde5a3d92f53b00"
  },
  {
   "cell_type": "code",
   "execution_count": 9,
   "outputs": [
    {
     "data": {
      "text/plain": "purchaseMethod\nIn store    2819\nOnline      1585\nPhone        596\nName: count, dtype: int64"
     },
     "execution_count": 9,
     "metadata": {},
     "output_type": "execute_result"
    }
   ],
   "source": [
    "sales_df['purchaseMethod'].value_counts()"
   ],
   "metadata": {
    "collapsed": false,
    "ExecuteTime": {
     "end_time": "2023-10-14T10:43:50.081213200Z",
     "start_time": "2023-10-14T10:43:50.065082800Z"
    }
   },
   "id": "145261facc7a28ff"
  },
  {
   "cell_type": "code",
   "execution_count": 16,
   "outputs": [
    {
     "data": {
      "text/plain": "str"
     },
     "execution_count": 16,
     "metadata": {},
     "output_type": "execute_result"
    }
   ],
   "source": [
    "type(sales_df['purchaseMethod'][0])"
   ],
   "metadata": {
    "collapsed": false,
    "ExecuteTime": {
     "end_time": "2023-10-14T10:48:11.948627800Z",
     "start_time": "2023-10-14T10:48:11.927905900Z"
    }
   },
   "id": "9bfe0770f1c35f9c"
  },
  {
   "cell_type": "markdown",
   "source": [
    "### 0.2.4 Sales Date (Need for Query 5)"
   ],
   "metadata": {
    "collapsed": false
   },
   "id": "97bd0296a9a4935b"
  },
  {
   "cell_type": "code",
   "execution_count": 11,
   "outputs": [
    {
     "data": {
      "text/plain": "0    {'$date': '2015-08-25T10:01:02.918Z'}\n1    {'$date': '2015-09-02T16:11:59.565Z'}\n2    {'$date': '2014-08-18T04:37:26.849Z'}\n3    {'$date': '2017-09-14T10:52:42.206Z'}\n4    {'$date': '2015-03-23T21:06:49.506Z'}\nName: saleDate, dtype: object"
     },
     "execution_count": 11,
     "metadata": {},
     "output_type": "execute_result"
    }
   ],
   "source": [
    "sales_df['saleDate'].head()"
   ],
   "metadata": {
    "collapsed": false,
    "ExecuteTime": {
     "end_time": "2023-10-14T10:44:45.285345600Z",
     "start_time": "2023-10-14T10:44:45.253977700Z"
    }
   },
   "id": "b5794f643cb128e1"
  },
  {
   "cell_type": "code",
   "execution_count": 12,
   "outputs": [
    {
     "data": {
      "text/plain": "dict"
     },
     "execution_count": 12,
     "metadata": {},
     "output_type": "execute_result"
    }
   ],
   "source": [
    "type(sales_df['saleDate'][0])"
   ],
   "metadata": {
    "collapsed": false,
    "ExecuteTime": {
     "end_time": "2023-10-14T10:44:56.259024100Z",
     "start_time": "2023-10-14T10:44:56.240090800Z"
    }
   },
   "id": "9c9ecc503cd12e4"
  },
  {
   "cell_type": "markdown",
   "source": [
    "### 0.2.5 Store Location (Need for Query 2, 3)"
   ],
   "metadata": {
    "collapsed": false
   },
   "id": "4013172c1553d5dd"
  },
  {
   "cell_type": "code",
   "execution_count": 4,
   "outputs": [
    {
     "data": {
      "text/plain": "storeLocation\nDenver       1549\nSeattle      1134\nLondon        794\nAustin        676\nNew York      501\nSan Diego     346\nName: count, dtype: int64"
     },
     "execution_count": 4,
     "metadata": {},
     "output_type": "execute_result"
    }
   ],
   "source": [
    "sales_df['storeLocation'].value_counts()"
   ],
   "metadata": {
    "collapsed": false,
    "ExecuteTime": {
     "end_time": "2023-10-14T10:22:09.963257900Z",
     "start_time": "2023-10-14T10:22:09.945758700Z"
    }
   },
   "id": "39c5069b99fecbbf"
  },
  {
   "cell_type": "code",
   "execution_count": 17,
   "outputs": [
    {
     "data": {
      "text/plain": "str"
     },
     "execution_count": 17,
     "metadata": {},
     "output_type": "execute_result"
    }
   ],
   "source": [
    "type(sales_df['storeLocation'][0])"
   ],
   "metadata": {
    "collapsed": false,
    "ExecuteTime": {
     "end_time": "2023-10-14T10:48:20.407557800Z",
     "start_time": "2023-10-14T10:48:20.390515300Z"
    }
   },
   "id": "93eaaa3455f43d94"
  },
  {
   "cell_type": "markdown",
   "source": [
    "## 0.3 Transformation (Data Preproccessing)"
   ],
   "metadata": {
    "collapsed": false
   },
   "id": "4864d88eaffe5e81"
  },
  {
   "cell_type": "markdown",
   "source": [
    "### 0.3.1 Clean customer"
   ],
   "metadata": {
    "collapsed": false
   },
   "id": "7da91db7e5715b17"
  },
  {
   "cell_type": "code",
   "execution_count": 39,
   "outputs": [
    {
     "name": "stdout",
     "output_type": "stream",
     "text": [
      "{gender=M, age=50, email=keecade@hem.uy, satisfaction=5}\n",
      "{'gender':'M', 'age':'50', 'email':'keecade@hem.uy', 'satisfaction':'5'}\n"
     ]
    }
   ],
   "source": [
    "# Before and After\n",
    "print(sales_df['customer'][0])\n",
    "print((sales_df['customer'][0].replace(\"=\", \"':'\").replace(\", \", \"', '\").replace(\"}\", \"'}\").replace(\"{\", \"{'\")))"
   ],
   "metadata": {
    "collapsed": false,
    "ExecuteTime": {
     "end_time": "2023-10-14T12:11:32.098403500Z",
     "start_time": "2023-10-14T12:11:32.082823900Z"
    }
   },
   "id": "5174a89107ec320e"
  },
  {
   "cell_type": "code",
   "execution_count": 38,
   "outputs": [
    {
     "data": {
      "text/plain": "                                            customer gender satisfaction\n0  {gender=M, age=50, email=keecade@hem.uy, satis...      M            5\n1  {gender=M, age=44, email=owtar@pu.cd, satisfac...      M            2\n2  {gender=M, age=57, email=ohaguwu@nufub.gi, sat...      M            3\n3  {gender=F, age=54, email=civma@rozfon.tr, sati...      F            5\n4  {gender=M, age=42, email=cauho@witwuta.sv, sat...      M            4\n5  {gender=M, age=30, email=ziguh@lu.bf, satisfac...      M            4\n6  {gender=M, age=26, email=rapifoozi@viupoen.bb,...      M            5\n7  {gender=F, age=34, email=keigutip@vaw.tc, sati...      F            4\n8  {gender=F, age=40, email=elusekjiv@kuajmag.as,...      F            4\n9  {gender=M, age=48, email=avwa@ud.pt, satisfact...      M            3",
      "text/html": "<div>\n<style scoped>\n    .dataframe tbody tr th:only-of-type {\n        vertical-align: middle;\n    }\n\n    .dataframe tbody tr th {\n        vertical-align: top;\n    }\n\n    .dataframe thead th {\n        text-align: right;\n    }\n</style>\n<table border=\"1\" class=\"dataframe\">\n  <thead>\n    <tr style=\"text-align: right;\">\n      <th></th>\n      <th>customer</th>\n      <th>gender</th>\n      <th>satisfaction</th>\n    </tr>\n  </thead>\n  <tbody>\n    <tr>\n      <th>0</th>\n      <td>{gender=M, age=50, email=keecade@hem.uy, satis...</td>\n      <td>M</td>\n      <td>5</td>\n    </tr>\n    <tr>\n      <th>1</th>\n      <td>{gender=M, age=44, email=owtar@pu.cd, satisfac...</td>\n      <td>M</td>\n      <td>2</td>\n    </tr>\n    <tr>\n      <th>2</th>\n      <td>{gender=M, age=57, email=ohaguwu@nufub.gi, sat...</td>\n      <td>M</td>\n      <td>3</td>\n    </tr>\n    <tr>\n      <th>3</th>\n      <td>{gender=F, age=54, email=civma@rozfon.tr, sati...</td>\n      <td>F</td>\n      <td>5</td>\n    </tr>\n    <tr>\n      <th>4</th>\n      <td>{gender=M, age=42, email=cauho@witwuta.sv, sat...</td>\n      <td>M</td>\n      <td>4</td>\n    </tr>\n    <tr>\n      <th>5</th>\n      <td>{gender=M, age=30, email=ziguh@lu.bf, satisfac...</td>\n      <td>M</td>\n      <td>4</td>\n    </tr>\n    <tr>\n      <th>6</th>\n      <td>{gender=M, age=26, email=rapifoozi@viupoen.bb,...</td>\n      <td>M</td>\n      <td>5</td>\n    </tr>\n    <tr>\n      <th>7</th>\n      <td>{gender=F, age=34, email=keigutip@vaw.tc, sati...</td>\n      <td>F</td>\n      <td>4</td>\n    </tr>\n    <tr>\n      <th>8</th>\n      <td>{gender=F, age=40, email=elusekjiv@kuajmag.as,...</td>\n      <td>F</td>\n      <td>4</td>\n    </tr>\n    <tr>\n      <th>9</th>\n      <td>{gender=M, age=48, email=avwa@ud.pt, satisfact...</td>\n      <td>M</td>\n      <td>3</td>\n    </tr>\n  </tbody>\n</table>\n</div>"
     },
     "execution_count": 38,
     "metadata": {},
     "output_type": "execute_result"
    }
   ],
   "source": [
    "def getGender(customer):\n",
    "    customer_dict = eval(customer.replace(\"=\", \"':'\").replace(\", \", \"', '\").replace(\"}\", \"'}\").replace(\"{\", \"{'\"))\n",
    "    return customer_dict[\"gender\"]\n",
    "\n",
    "def getSatisfaction(customer):\n",
    "    customer_dict = eval(customer.replace(\"=\", \"':'\").replace(\", \", \"', '\").replace(\"}\", \"'}\").replace(\"{\", \"{'\"))\n",
    "    return customer_dict[\"satisfaction\"]\n",
    "\n",
    "\n",
    "sales_df[\"gender\"] = sales_df[\"customer\"].apply(getGender)\n",
    "sales_df[\"satisfaction\"] = sales_df[\"customer\"].apply(getSatisfaction)\n",
    "sales_df[[\"customer\", \"gender\", \"satisfaction\"]].head(10)"
   ],
   "metadata": {
    "collapsed": false,
    "ExecuteTime": {
     "end_time": "2023-10-14T12:10:51.848595800Z",
     "start_time": "2023-10-14T12:10:51.661276500Z"
    }
   },
   "id": "8a687b5601d67d78"
  },
  {
   "cell_type": "markdown",
   "source": [
    "### 0.3.2 Clean items"
   ],
   "metadata": {
    "collapsed": false
   },
   "id": "1d77388a109dc778"
  },
  {
   "cell_type": "code",
   "execution_count": 41,
   "outputs": [
    {
     "name": "stdout",
     "output_type": "stream",
     "text": [
      "[{name=envelopes, tags=[stationary, office, general], price=8.05, quantity=10}, {name=binder, tags=[school, general, organization], price=28.31, quantity=9}, {name=notepad, tags=[office, writing, school], price=20.95, quantity=3}, {name=laptop, tags=[electronics, school, office], price=866.5, quantity=4}, {name=notepad, tags=[office, writing, school], price=33.09, quantity=4}, {name=printer paper, tags=[office, stationary], price=37.55, quantity=1}, {name=backpack, tags=[school, travel, kids], price=83.28, quantity=2}, {name=pens, tags=[writing, office, school, stationary], price=42.9, quantity=4}, {name=envelopes, tags=[stationary, office, general], price=16.68, quantity=2}]\n",
      "\n",
      "[{'name':'envelopes', 'tags':'[stationary', 'office', 'general]', 'price':'8.05', 'quantity':'10'}', '{'name':'binder', 'tags':'[school', 'general', 'organization]', 'price':'28.31', 'quantity':'9'}', '{'name':'notepad', 'tags':'[office', 'writing', 'school]', 'price':'20.95', 'quantity':'3'}', '{'name':'laptop', 'tags':'[electronics', 'school', 'office]', 'price':'866.5', 'quantity':'4'}', '{'name':'notepad', 'tags':'[office', 'writing', 'school]', 'price':'33.09', 'quantity':'4'}', '{'name':'printer paper', 'tags':'[office', 'stationary]', 'price':'37.55', 'quantity':'1'}', '{'name':'backpack', 'tags':'[school', 'travel', 'kids]', 'price':'83.28', 'quantity':'2'}', '{'name':'pens', 'tags':'[writing', 'office', 'school', 'stationary]', 'price':'42.9', 'quantity':'4'}', '{'name':'envelopes', 'tags':'[stationary', 'office', 'general]', 'price':'16.68', 'quantity':'2'}]\n"
     ]
    }
   ],
   "source": [
    "# Before and After\n",
    "print(sales_df['items'][0])\n",
    "print()\n",
    "print((sales_df['items'][0].replace(\"=\", \"':'\").replace(\", \", \"', '\").replace(\"}\", \"'}\").replace(\"{\", \"{'\")))"
   ],
   "metadata": {
    "collapsed": false,
    "ExecuteTime": {
     "end_time": "2023-10-14T12:13:07.806231800Z",
     "start_time": "2023-10-14T12:13:07.773974700Z"
    }
   },
   "id": "cc8fce579cb75783"
  },
  {
   "cell_type": "markdown",
   "source": [
    "### 0.3.3 Clean purchaseMethod"
   ],
   "metadata": {
    "collapsed": false
   },
   "id": "235a79223f223eda"
  },
  {
   "cell_type": "markdown",
   "source": [
    "### 0.3.4 Clean saleDate"
   ],
   "metadata": {
    "collapsed": false
   },
   "id": "c6d5f721fef3fad5"
  },
  {
   "cell_type": "code",
   "execution_count": 23,
   "outputs": [
    {
     "data": {
      "text/plain": "                                    _id  couponUsed  \\\n0  {'$oid': '5bd761dcae323e45a93ccfe9'}       False   \n1  {'$oid': '5bd761dcae323e45a93ccfed'}       False   \n2  {'$oid': '5bd761dcae323e45a93ccff1'}       False   \n3  {'$oid': '5bd761dcae323e45a93cd008'}       False   \n4  {'$oid': '5bd761dcae323e45a93ccfe8'}        True   \n5  {'$oid': '5bd761dcae323e45a93ccffc'}       False   \n6  {'$oid': '5bd761dcae323e45a93ccff0'}        True   \n7  {'$oid': '5bd761dcae323e45a93ccff2'}       False   \n8  {'$oid': '5bd761dcae323e45a93ccffa'}        True   \n9  {'$oid': '5bd761dcae323e45a93cd001'}       False   \n\n                                            customer  \\\n0  {gender=M, age=50, email=keecade@hem.uy, satis...   \n1  {gender=M, age=44, email=owtar@pu.cd, satisfac...   \n2  {gender=M, age=57, email=ohaguwu@nufub.gi, sat...   \n3  {gender=F, age=54, email=civma@rozfon.tr, sati...   \n4  {gender=M, age=42, email=cauho@witwuta.sv, sat...   \n5  {gender=M, age=30, email=ziguh@lu.bf, satisfac...   \n6  {gender=M, age=26, email=rapifoozi@viupoen.bb,...   \n7  {gender=F, age=34, email=keigutip@vaw.tc, sati...   \n8  {gender=F, age=40, email=elusekjiv@kuajmag.as,...   \n9  {gender=M, age=48, email=avwa@ud.pt, satisfact...   \n\n                                               items purchaseMethod  \\\n0  [{name=envelopes, tags=[stationary, office, ge...          Phone   \n1  [{name=binder, tags=[school, general, organiza...       In store   \n2  [{name=pens, tags=[writing, office, school, st...       In store   \n3  [{name=backpack, tags=[school, travel, kids], ...       In store   \n4  [{name=printer paper, tags=[office, stationary...         Online   \n5  [{name=binder, tags=[school, general, organiza...       In store   \n6  [{name=envelopes, tags=[stationary, office, ge...       In store   \n7  [{name=pens, tags=[writing, office, school, st...          Phone   \n8  [{name=laptop, tags=[electronics, school, offi...       In store   \n9  [{name=printer paper, tags=[office, stationary...       In store   \n\n                                saleDate storeLocation month  \n0  {'$date': '2015-08-25T10:01:02.918Z'}       Seattle   Aug  \n1  {'$date': '2015-09-02T16:11:59.565Z'}        London   Sep  \n2  {'$date': '2014-08-18T04:37:26.849Z'}        Denver   Aug  \n3  {'$date': '2017-09-14T10:52:42.206Z'}        Denver   Sep  \n4  {'$date': '2015-03-23T21:06:49.506Z'}        Denver   Mar  \n5  {'$date': '2015-11-12T12:06:07.052Z'}        Denver   Nov  \n6  {'$date': '2017-03-21T01:54:26.657Z'}      New York   Mar  \n7  {'$date': '2015-07-25T07:20:29.804Z'}       Seattle   Jul  \n8  {'$date': '2016-08-15T04:05:03.298Z'}     San Diego   Aug  \n9  {'$date': '2017-02-09T12:08:51.353Z'}        Denver   Feb  ",
      "text/html": "<div>\n<style scoped>\n    .dataframe tbody tr th:only-of-type {\n        vertical-align: middle;\n    }\n\n    .dataframe tbody tr th {\n        vertical-align: top;\n    }\n\n    .dataframe thead th {\n        text-align: right;\n    }\n</style>\n<table border=\"1\" class=\"dataframe\">\n  <thead>\n    <tr style=\"text-align: right;\">\n      <th></th>\n      <th>_id</th>\n      <th>couponUsed</th>\n      <th>customer</th>\n      <th>items</th>\n      <th>purchaseMethod</th>\n      <th>saleDate</th>\n      <th>storeLocation</th>\n      <th>month</th>\n    </tr>\n  </thead>\n  <tbody>\n    <tr>\n      <th>0</th>\n      <td>{'$oid': '5bd761dcae323e45a93ccfe9'}</td>\n      <td>False</td>\n      <td>{gender=M, age=50, email=keecade@hem.uy, satis...</td>\n      <td>[{name=envelopes, tags=[stationary, office, ge...</td>\n      <td>Phone</td>\n      <td>{'$date': '2015-08-25T10:01:02.918Z'}</td>\n      <td>Seattle</td>\n      <td>Aug</td>\n    </tr>\n    <tr>\n      <th>1</th>\n      <td>{'$oid': '5bd761dcae323e45a93ccfed'}</td>\n      <td>False</td>\n      <td>{gender=M, age=44, email=owtar@pu.cd, satisfac...</td>\n      <td>[{name=binder, tags=[school, general, organiza...</td>\n      <td>In store</td>\n      <td>{'$date': '2015-09-02T16:11:59.565Z'}</td>\n      <td>London</td>\n      <td>Sep</td>\n    </tr>\n    <tr>\n      <th>2</th>\n      <td>{'$oid': '5bd761dcae323e45a93ccff1'}</td>\n      <td>False</td>\n      <td>{gender=M, age=57, email=ohaguwu@nufub.gi, sat...</td>\n      <td>[{name=pens, tags=[writing, office, school, st...</td>\n      <td>In store</td>\n      <td>{'$date': '2014-08-18T04:37:26.849Z'}</td>\n      <td>Denver</td>\n      <td>Aug</td>\n    </tr>\n    <tr>\n      <th>3</th>\n      <td>{'$oid': '5bd761dcae323e45a93cd008'}</td>\n      <td>False</td>\n      <td>{gender=F, age=54, email=civma@rozfon.tr, sati...</td>\n      <td>[{name=backpack, tags=[school, travel, kids], ...</td>\n      <td>In store</td>\n      <td>{'$date': '2017-09-14T10:52:42.206Z'}</td>\n      <td>Denver</td>\n      <td>Sep</td>\n    </tr>\n    <tr>\n      <th>4</th>\n      <td>{'$oid': '5bd761dcae323e45a93ccfe8'}</td>\n      <td>True</td>\n      <td>{gender=M, age=42, email=cauho@witwuta.sv, sat...</td>\n      <td>[{name=printer paper, tags=[office, stationary...</td>\n      <td>Online</td>\n      <td>{'$date': '2015-03-23T21:06:49.506Z'}</td>\n      <td>Denver</td>\n      <td>Mar</td>\n    </tr>\n    <tr>\n      <th>5</th>\n      <td>{'$oid': '5bd761dcae323e45a93ccffc'}</td>\n      <td>False</td>\n      <td>{gender=M, age=30, email=ziguh@lu.bf, satisfac...</td>\n      <td>[{name=binder, tags=[school, general, organiza...</td>\n      <td>In store</td>\n      <td>{'$date': '2015-11-12T12:06:07.052Z'}</td>\n      <td>Denver</td>\n      <td>Nov</td>\n    </tr>\n    <tr>\n      <th>6</th>\n      <td>{'$oid': '5bd761dcae323e45a93ccff0'}</td>\n      <td>True</td>\n      <td>{gender=M, age=26, email=rapifoozi@viupoen.bb,...</td>\n      <td>[{name=envelopes, tags=[stationary, office, ge...</td>\n      <td>In store</td>\n      <td>{'$date': '2017-03-21T01:54:26.657Z'}</td>\n      <td>New York</td>\n      <td>Mar</td>\n    </tr>\n    <tr>\n      <th>7</th>\n      <td>{'$oid': '5bd761dcae323e45a93ccff2'}</td>\n      <td>False</td>\n      <td>{gender=F, age=34, email=keigutip@vaw.tc, sati...</td>\n      <td>[{name=pens, tags=[writing, office, school, st...</td>\n      <td>Phone</td>\n      <td>{'$date': '2015-07-25T07:20:29.804Z'}</td>\n      <td>Seattle</td>\n      <td>Jul</td>\n    </tr>\n    <tr>\n      <th>8</th>\n      <td>{'$oid': '5bd761dcae323e45a93ccffa'}</td>\n      <td>True</td>\n      <td>{gender=F, age=40, email=elusekjiv@kuajmag.as,...</td>\n      <td>[{name=laptop, tags=[electronics, school, offi...</td>\n      <td>In store</td>\n      <td>{'$date': '2016-08-15T04:05:03.298Z'}</td>\n      <td>San Diego</td>\n      <td>Aug</td>\n    </tr>\n    <tr>\n      <th>9</th>\n      <td>{'$oid': '5bd761dcae323e45a93cd001'}</td>\n      <td>False</td>\n      <td>{gender=M, age=48, email=avwa@ud.pt, satisfact...</td>\n      <td>[{name=printer paper, tags=[office, stationary...</td>\n      <td>In store</td>\n      <td>{'$date': '2017-02-09T12:08:51.353Z'}</td>\n      <td>Denver</td>\n      <td>Feb</td>\n    </tr>\n  </tbody>\n</table>\n</div>"
     },
     "execution_count": 23,
     "metadata": {},
     "output_type": "execute_result"
    }
   ],
   "source": [
    "def getSaleDate(date_dict):\n",
    "    date_value = date_dict['$date']\n",
    "    date_object = pd.to_datetime(date_value)\n",
    "    # %b is for \"abbreviated month name\"\n",
    "    return date_object.strftime('%b')\n",
    "\n",
    "# Apply the custom function to the DataFrame\n",
    "sales_df['month'] = sales_df['saleDate'].apply(getSaleDate)\n",
    "sales_df.head(10)"
   ],
   "metadata": {
    "collapsed": false,
    "ExecuteTime": {
     "end_time": "2023-10-14T11:38:41.076186300Z",
     "start_time": "2023-10-14T11:38:37.541585300Z"
    }
   },
   "id": "6baa9cac0488b236"
  },
  {
   "cell_type": "markdown",
   "source": [
    "### 0.3.5 Clean storeLocation"
   ],
   "metadata": {
    "collapsed": false
   },
   "id": "9dfcab16e3e96c8"
  },
  {
   "cell_type": "markdown",
   "source": [
    "# 1. Show top 10 products (name) sales (quantity x price).\n"
   ],
   "metadata": {
    "collapsed": false
   },
   "id": "96cc0f9d177d8e4b"
  },
  {
   "cell_type": "markdown",
   "source": [
    "# 2. Show top 3 products (name) sales by store (location).\n"
   ],
   "metadata": {
    "collapsed": false
   },
   "id": "162b0f3c48af227"
  },
  {
   "cell_type": "markdown",
   "source": [
    "# 3. Show rankings of each store (location).\n"
   ],
   "metadata": {
    "collapsed": false
   },
   "id": "b7e0f9816fc7a58a"
  },
  {
   "cell_type": "markdown",
   "source": [
    "# 4. Show purchased method by gender table\n"
   ],
   "metadata": {
    "collapsed": false
   },
   "id": "c73957646abc7785"
  },
  {
   "cell_type": "markdown",
   "source": [
    "# 5. Show monthly total sales\n"
   ],
   "metadata": {
    "collapsed": false
   },
   "id": "cdab013a75f071d5"
  },
  {
   "cell_type": "code",
   "execution_count": null,
   "outputs": [],
   "source": [],
   "metadata": {
    "collapsed": false
   },
   "id": "41600f731755600f"
  }
 ],
 "metadata": {
  "kernelspec": {
   "display_name": "Python 3",
   "language": "python",
   "name": "python3"
  },
  "language_info": {
   "codemirror_mode": {
    "name": "ipython",
    "version": 2
   },
   "file_extension": ".py",
   "mimetype": "text/x-python",
   "name": "python",
   "nbconvert_exporter": "python",
   "pygments_lexer": "ipython2",
   "version": "2.7.6"
  }
 },
 "nbformat": 4,
 "nbformat_minor": 5
}
