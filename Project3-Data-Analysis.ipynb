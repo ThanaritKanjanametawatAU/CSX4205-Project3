{
 "cells": [
  {
   "cell_type": "markdown",
   "source": [
    "# **Big Data Analytics Project 3: Semi-Structure Data Analytics**\n",
    "# Thanarit Kanjanametawat ID:6410322"
   ],
   "metadata": {
    "collapsed": false
   },
   "id": "f1eca079aa58363"
  },
  {
   "cell_type": "markdown",
   "source": [
    "# 0. Data Ingestion"
   ],
   "metadata": {
    "collapsed": false
   },
   "id": "bed0c78f4c604a54"
  },
  {
   "cell_type": "markdown",
   "source": [
    "## 0.1 Read the exported sales collection (JSON file)"
   ],
   "metadata": {
    "collapsed": false
   },
   "id": "b24e0d6e3f0d4900"
  },
  {
   "cell_type": "code",
   "execution_count": 103,
   "outputs": [
    {
     "data": {
      "text/plain": "                                    _id  \\\n0  {'$oid': '5bd761dcae323e45a93ccfe9'}   \n1  {'$oid': '5bd761dcae323e45a93ccfed'}   \n2  {'$oid': '5bd761dcae323e45a93ccff1'}   \n3  {'$oid': '5bd761dcae323e45a93cd008'}   \n4  {'$oid': '5bd761dcae323e45a93ccfe8'}   \n\n                                saleDate  \\\n0  {'$date': '2015-08-25T10:01:02.918Z'}   \n1  {'$date': '2015-09-02T16:11:59.565Z'}   \n2  {'$date': '2014-08-18T04:37:26.849Z'}   \n3  {'$date': '2017-09-14T10:52:42.206Z'}   \n4  {'$date': '2015-03-23T21:06:49.506Z'}   \n\n                                               items storeLocation  \\\n0  [{'name': 'envelopes', 'tags': ['stationary', ...       Seattle   \n1  [{'name': 'binder', 'tags': ['school', 'genera...        London   \n2  [{'name': 'pens', 'tags': ['writing', 'office'...        Denver   \n3  [{'name': 'backpack', 'tags': ['school', 'trav...        Denver   \n4  [{'name': 'printer paper', 'tags': ['office', ...        Denver   \n\n                                            customer  couponUsed  \\\n0  {'gender': 'M', 'age': 50, 'email': 'keecade@h...       False   \n1  {'gender': 'M', 'age': 44, 'email': 'owtar@pu....       False   \n2  {'gender': 'M', 'age': 57, 'email': 'ohaguwu@n...       False   \n3  {'gender': 'F', 'age': 54, 'email': 'civma@roz...       False   \n4  {'gender': 'M', 'age': 42, 'email': 'cauho@wit...        True   \n\n  purchaseMethod  \n0          Phone  \n1       In store  \n2       In store  \n3       In store  \n4         Online  ",
      "text/html": "<div>\n<style scoped>\n    .dataframe tbody tr th:only-of-type {\n        vertical-align: middle;\n    }\n\n    .dataframe tbody tr th {\n        vertical-align: top;\n    }\n\n    .dataframe thead th {\n        text-align: right;\n    }\n</style>\n<table border=\"1\" class=\"dataframe\">\n  <thead>\n    <tr style=\"text-align: right;\">\n      <th></th>\n      <th>_id</th>\n      <th>saleDate</th>\n      <th>items</th>\n      <th>storeLocation</th>\n      <th>customer</th>\n      <th>couponUsed</th>\n      <th>purchaseMethod</th>\n    </tr>\n  </thead>\n  <tbody>\n    <tr>\n      <th>0</th>\n      <td>{'$oid': '5bd761dcae323e45a93ccfe9'}</td>\n      <td>{'$date': '2015-08-25T10:01:02.918Z'}</td>\n      <td>[{'name': 'envelopes', 'tags': ['stationary', ...</td>\n      <td>Seattle</td>\n      <td>{'gender': 'M', 'age': 50, 'email': 'keecade@h...</td>\n      <td>False</td>\n      <td>Phone</td>\n    </tr>\n    <tr>\n      <th>1</th>\n      <td>{'$oid': '5bd761dcae323e45a93ccfed'}</td>\n      <td>{'$date': '2015-09-02T16:11:59.565Z'}</td>\n      <td>[{'name': 'binder', 'tags': ['school', 'genera...</td>\n      <td>London</td>\n      <td>{'gender': 'M', 'age': 44, 'email': 'owtar@pu....</td>\n      <td>False</td>\n      <td>In store</td>\n    </tr>\n    <tr>\n      <th>2</th>\n      <td>{'$oid': '5bd761dcae323e45a93ccff1'}</td>\n      <td>{'$date': '2014-08-18T04:37:26.849Z'}</td>\n      <td>[{'name': 'pens', 'tags': ['writing', 'office'...</td>\n      <td>Denver</td>\n      <td>{'gender': 'M', 'age': 57, 'email': 'ohaguwu@n...</td>\n      <td>False</td>\n      <td>In store</td>\n    </tr>\n    <tr>\n      <th>3</th>\n      <td>{'$oid': '5bd761dcae323e45a93cd008'}</td>\n      <td>{'$date': '2017-09-14T10:52:42.206Z'}</td>\n      <td>[{'name': 'backpack', 'tags': ['school', 'trav...</td>\n      <td>Denver</td>\n      <td>{'gender': 'F', 'age': 54, 'email': 'civma@roz...</td>\n      <td>False</td>\n      <td>In store</td>\n    </tr>\n    <tr>\n      <th>4</th>\n      <td>{'$oid': '5bd761dcae323e45a93ccfe8'}</td>\n      <td>{'$date': '2015-03-23T21:06:49.506Z'}</td>\n      <td>[{'name': 'printer paper', 'tags': ['office', ...</td>\n      <td>Denver</td>\n      <td>{'gender': 'M', 'age': 42, 'email': 'cauho@wit...</td>\n      <td>True</td>\n      <td>Online</td>\n    </tr>\n  </tbody>\n</table>\n</div>"
     },
     "execution_count": 103,
     "metadata": {},
     "output_type": "execute_result"
    }
   ],
   "source": [
    "import pandas as pd\n",
    "\n",
    "sales_df = pd.read_json('sales.json', lines=True)\n",
    "sales_df.head()"
   ],
   "metadata": {
    "collapsed": false,
    "ExecuteTime": {
     "end_time": "2023-10-14T13:28:54.530003500Z",
     "start_time": "2023-10-14T13:28:53.931347500Z"
    }
   },
   "id": "b2d0fe51739da1c4"
  },
  {
   "cell_type": "markdown",
   "source": [
    "## 0.2 Observe the features that are needed"
   ],
   "metadata": {
    "collapsed": false
   },
   "id": "570e4bf28bf0eed"
  },
  {
   "cell_type": "code",
   "execution_count": 104,
   "outputs": [
    {
     "data": {
      "text/plain": "_id               object\nsaleDate          object\nitems             object\nstoreLocation     object\ncustomer          object\ncouponUsed          bool\npurchaseMethod    object\ndtype: object"
     },
     "execution_count": 104,
     "metadata": {},
     "output_type": "execute_result"
    }
   ],
   "source": [
    "sales_df.dtypes"
   ],
   "metadata": {
    "collapsed": false,
    "ExecuteTime": {
     "end_time": "2023-10-14T13:28:54.531003300Z",
     "start_time": "2023-10-14T13:28:54.188895Z"
    }
   },
   "id": "5c9442cfa7ba68bb"
  },
  {
   "cell_type": "code",
   "execution_count": 105,
   "outputs": [
    {
     "data": {
      "text/plain": "_id               0\nsaleDate          0\nitems             0\nstoreLocation     0\ncustomer          0\ncouponUsed        0\npurchaseMethod    0\ndtype: int64"
     },
     "execution_count": 105,
     "metadata": {},
     "output_type": "execute_result"
    }
   ],
   "source": [
    "# Find Missing\n",
    "sales_df.isnull().sum()"
   ],
   "metadata": {
    "collapsed": false,
    "ExecuteTime": {
     "end_time": "2023-10-14T13:28:54.534001800Z",
     "start_time": "2023-10-14T13:28:54.194328Z"
    }
   },
   "id": "d271fc8fa2aa15f3"
  },
  {
   "cell_type": "markdown",
   "source": [
    "### 0.2.1 Customer (Need satisfaction for Query 3 and gender for Query 4)"
   ],
   "metadata": {
    "collapsed": false
   },
   "id": "febbfea032c937"
  },
  {
   "cell_type": "code",
   "execution_count": 106,
   "outputs": [
    {
     "data": {
      "text/plain": "0    {'gender': 'M', 'age': 50, 'email': 'keecade@h...\n1    {'gender': 'M', 'age': 44, 'email': 'owtar@pu....\n2    {'gender': 'M', 'age': 57, 'email': 'ohaguwu@n...\n3    {'gender': 'F', 'age': 54, 'email': 'civma@roz...\n4    {'gender': 'M', 'age': 42, 'email': 'cauho@wit...\nName: customer, dtype: object"
     },
     "execution_count": 106,
     "metadata": {},
     "output_type": "execute_result"
    }
   ],
   "source": [
    "sales_df['customer'].head()"
   ],
   "metadata": {
    "collapsed": false,
    "ExecuteTime": {
     "end_time": "2023-10-14T13:28:54.535001800Z",
     "start_time": "2023-10-14T13:28:54.207872500Z"
    }
   },
   "id": "7d4feb6d55c5f50c"
  },
  {
   "cell_type": "code",
   "execution_count": 107,
   "outputs": [
    {
     "data": {
      "text/plain": "dict"
     },
     "execution_count": 107,
     "metadata": {},
     "output_type": "execute_result"
    }
   ],
   "source": [
    "type(sales_df['customer'][0])"
   ],
   "metadata": {
    "collapsed": false,
    "ExecuteTime": {
     "end_time": "2023-10-14T13:28:54.542011Z",
     "start_time": "2023-10-14T13:28:54.216443600Z"
    }
   },
   "id": "cbcd11a4f6533fd9"
  },
  {
   "cell_type": "markdown",
   "source": [
    "### 0.2.2 Items (Need name, price, quantity for Query 1, 2)"
   ],
   "metadata": {
    "collapsed": false
   },
   "id": "e4e69f4d6636deb0"
  },
  {
   "cell_type": "code",
   "execution_count": 108,
   "outputs": [
    {
     "data": {
      "text/plain": "0    [{'name': 'envelopes', 'tags': ['stationary', ...\n1    [{'name': 'binder', 'tags': ['school', 'genera...\n2    [{'name': 'pens', 'tags': ['writing', 'office'...\n3    [{'name': 'backpack', 'tags': ['school', 'trav...\n4    [{'name': 'printer paper', 'tags': ['office', ...\nName: items, dtype: object"
     },
     "execution_count": 108,
     "metadata": {},
     "output_type": "execute_result"
    }
   ],
   "source": [
    "sales_df['items'].head()"
   ],
   "metadata": {
    "collapsed": false,
    "ExecuteTime": {
     "end_time": "2023-10-14T13:28:54.543011900Z",
     "start_time": "2023-10-14T13:28:54.225431900Z"
    }
   },
   "id": "b7cb04558de008d"
  },
  {
   "cell_type": "code",
   "execution_count": 109,
   "outputs": [
    {
     "data": {
      "text/plain": "list"
     },
     "execution_count": 109,
     "metadata": {},
     "output_type": "execute_result"
    }
   ],
   "source": [
    "type(sales_df['items'][0])"
   ],
   "metadata": {
    "collapsed": false,
    "ExecuteTime": {
     "end_time": "2023-10-14T13:28:54.543011900Z",
     "start_time": "2023-10-14T13:28:54.242099300Z"
    }
   },
   "id": "8b1db21bc225a317"
  },
  {
   "cell_type": "markdown",
   "source": [
    "### 0.2.3 Purchase Method (Need for Query 4)"
   ],
   "metadata": {
    "collapsed": false
   },
   "id": "5bde5a3d92f53b00"
  },
  {
   "cell_type": "code",
   "execution_count": 110,
   "outputs": [
    {
     "data": {
      "text/plain": "purchaseMethod\nIn store    2819\nOnline      1585\nPhone        596\nName: count, dtype: int64"
     },
     "execution_count": 110,
     "metadata": {},
     "output_type": "execute_result"
    }
   ],
   "source": [
    "sales_df['purchaseMethod'].value_counts()"
   ],
   "metadata": {
    "collapsed": false,
    "ExecuteTime": {
     "end_time": "2023-10-14T13:28:54.543011900Z",
     "start_time": "2023-10-14T13:28:54.250578500Z"
    }
   },
   "id": "145261facc7a28ff"
  },
  {
   "cell_type": "code",
   "execution_count": 111,
   "outputs": [
    {
     "data": {
      "text/plain": "str"
     },
     "execution_count": 111,
     "metadata": {},
     "output_type": "execute_result"
    }
   ],
   "source": [
    "type(sales_df['purchaseMethod'][0])"
   ],
   "metadata": {
    "collapsed": false,
    "ExecuteTime": {
     "end_time": "2023-10-14T13:28:54.544009800Z",
     "start_time": "2023-10-14T13:28:54.260538400Z"
    }
   },
   "id": "9bfe0770f1c35f9c"
  },
  {
   "cell_type": "markdown",
   "source": [
    "### 0.2.4 Sales Date (Need for Query 5)"
   ],
   "metadata": {
    "collapsed": false
   },
   "id": "97bd0296a9a4935b"
  },
  {
   "cell_type": "code",
   "execution_count": 112,
   "outputs": [
    {
     "data": {
      "text/plain": "0    {'$date': '2015-08-25T10:01:02.918Z'}\n1    {'$date': '2015-09-02T16:11:59.565Z'}\n2    {'$date': '2014-08-18T04:37:26.849Z'}\n3    {'$date': '2017-09-14T10:52:42.206Z'}\n4    {'$date': '2015-03-23T21:06:49.506Z'}\nName: saleDate, dtype: object"
     },
     "execution_count": 112,
     "metadata": {},
     "output_type": "execute_result"
    }
   ],
   "source": [
    "sales_df['saleDate'].head()"
   ],
   "metadata": {
    "collapsed": false,
    "ExecuteTime": {
     "end_time": "2023-10-14T13:28:54.544009800Z",
     "start_time": "2023-10-14T13:28:54.269949300Z"
    }
   },
   "id": "b5794f643cb128e1"
  },
  {
   "cell_type": "code",
   "execution_count": 113,
   "outputs": [
    {
     "data": {
      "text/plain": "dict"
     },
     "execution_count": 113,
     "metadata": {},
     "output_type": "execute_result"
    }
   ],
   "source": [
    "type(sales_df['saleDate'][0])"
   ],
   "metadata": {
    "collapsed": false,
    "ExecuteTime": {
     "end_time": "2023-10-14T13:28:54.544009800Z",
     "start_time": "2023-10-14T13:28:54.278040800Z"
    }
   },
   "id": "9c9ecc503cd12e4"
  },
  {
   "cell_type": "markdown",
   "source": [
    "### 0.2.5 Store Location (Need for Query 2, 3)"
   ],
   "metadata": {
    "collapsed": false
   },
   "id": "4013172c1553d5dd"
  },
  {
   "cell_type": "code",
   "execution_count": 114,
   "outputs": [
    {
     "data": {
      "text/plain": "storeLocation\nDenver       1549\nSeattle      1134\nLondon        794\nAustin        676\nNew York      501\nSan Diego     346\nName: count, dtype: int64"
     },
     "execution_count": 114,
     "metadata": {},
     "output_type": "execute_result"
    }
   ],
   "source": [
    "sales_df['storeLocation'].value_counts()"
   ],
   "metadata": {
    "collapsed": false,
    "ExecuteTime": {
     "end_time": "2023-10-14T13:28:54.545011300Z",
     "start_time": "2023-10-14T13:28:54.286425800Z"
    }
   },
   "id": "39c5069b99fecbbf"
  },
  {
   "cell_type": "code",
   "execution_count": 115,
   "outputs": [
    {
     "data": {
      "text/plain": "str"
     },
     "execution_count": 115,
     "metadata": {},
     "output_type": "execute_result"
    }
   ],
   "source": [
    "type(sales_df['storeLocation'][0])"
   ],
   "metadata": {
    "collapsed": false,
    "ExecuteTime": {
     "end_time": "2023-10-14T13:28:54.545011300Z",
     "start_time": "2023-10-14T13:28:54.296446500Z"
    }
   },
   "id": "93eaaa3455f43d94"
  },
  {
   "cell_type": "markdown",
   "source": [
    "## 0.3 Transformation (Data Preproccessing)"
   ],
   "metadata": {
    "collapsed": false
   },
   "id": "4864d88eaffe5e81"
  },
  {
   "cell_type": "markdown",
   "source": [
    "### 0.3.1 Clean customer"
   ],
   "metadata": {
    "collapsed": false
   },
   "id": "7da91db7e5715b17"
  },
  {
   "cell_type": "code",
   "execution_count": 116,
   "outputs": [
    {
     "data": {
      "text/plain": "                                            customer  gender  satisfaction\n0  {'gender': 'M', 'age': 50, 'email': 'keecade@h...    Male             5\n1  {'gender': 'M', 'age': 44, 'email': 'owtar@pu....    Male             2\n2  {'gender': 'M', 'age': 57, 'email': 'ohaguwu@n...    Male             3\n3  {'gender': 'F', 'age': 54, 'email': 'civma@roz...  Female             5\n4  {'gender': 'M', 'age': 42, 'email': 'cauho@wit...    Male             4\n5  {'gender': 'M', 'age': 30, 'email': 'ziguh@lu....    Male             4\n6  {'gender': 'M', 'age': 26, 'email': 'rapifoozi...    Male             5\n7  {'gender': 'F', 'age': 34, 'email': 'keigutip@...  Female             4\n8  {'gender': 'F', 'age': 40, 'email': 'elusekjiv...  Female             4\n9  {'gender': 'M', 'age': 48, 'email': 'avwa@ud.p...    Male             3",
      "text/html": "<div>\n<style scoped>\n    .dataframe tbody tr th:only-of-type {\n        vertical-align: middle;\n    }\n\n    .dataframe tbody tr th {\n        vertical-align: top;\n    }\n\n    .dataframe thead th {\n        text-align: right;\n    }\n</style>\n<table border=\"1\" class=\"dataframe\">\n  <thead>\n    <tr style=\"text-align: right;\">\n      <th></th>\n      <th>customer</th>\n      <th>gender</th>\n      <th>satisfaction</th>\n    </tr>\n  </thead>\n  <tbody>\n    <tr>\n      <th>0</th>\n      <td>{'gender': 'M', 'age': 50, 'email': 'keecade@h...</td>\n      <td>Male</td>\n      <td>5</td>\n    </tr>\n    <tr>\n      <th>1</th>\n      <td>{'gender': 'M', 'age': 44, 'email': 'owtar@pu....</td>\n      <td>Male</td>\n      <td>2</td>\n    </tr>\n    <tr>\n      <th>2</th>\n      <td>{'gender': 'M', 'age': 57, 'email': 'ohaguwu@n...</td>\n      <td>Male</td>\n      <td>3</td>\n    </tr>\n    <tr>\n      <th>3</th>\n      <td>{'gender': 'F', 'age': 54, 'email': 'civma@roz...</td>\n      <td>Female</td>\n      <td>5</td>\n    </tr>\n    <tr>\n      <th>4</th>\n      <td>{'gender': 'M', 'age': 42, 'email': 'cauho@wit...</td>\n      <td>Male</td>\n      <td>4</td>\n    </tr>\n    <tr>\n      <th>5</th>\n      <td>{'gender': 'M', 'age': 30, 'email': 'ziguh@lu....</td>\n      <td>Male</td>\n      <td>4</td>\n    </tr>\n    <tr>\n      <th>6</th>\n      <td>{'gender': 'M', 'age': 26, 'email': 'rapifoozi...</td>\n      <td>Male</td>\n      <td>5</td>\n    </tr>\n    <tr>\n      <th>7</th>\n      <td>{'gender': 'F', 'age': 34, 'email': 'keigutip@...</td>\n      <td>Female</td>\n      <td>4</td>\n    </tr>\n    <tr>\n      <th>8</th>\n      <td>{'gender': 'F', 'age': 40, 'email': 'elusekjiv...</td>\n      <td>Female</td>\n      <td>4</td>\n    </tr>\n    <tr>\n      <th>9</th>\n      <td>{'gender': 'M', 'age': 48, 'email': 'avwa@ud.p...</td>\n      <td>Male</td>\n      <td>3</td>\n    </tr>\n  </tbody>\n</table>\n</div>"
     },
     "execution_count": 116,
     "metadata": {},
     "output_type": "execute_result"
    }
   ],
   "source": [
    "def getGender(customer):\n",
    "    gender = customer[\"gender\"]\n",
    "    if gender == \"M\":\n",
    "        return \"Male\"\n",
    "    elif gender == \"F\":\n",
    "        return \"Female\"\n",
    "    else:\n",
    "        return \"Other\"\n",
    "def getSatisfaction(customer):\n",
    "    return customer[\"satisfaction\"]\n",
    "\n",
    "sales_df[\"gender\"] = sales_df[\"customer\"].apply(getGender)\n",
    "sales_df[\"satisfaction\"] = sales_df[\"customer\"].apply(getSatisfaction)\n",
    "sales_df[[\"customer\", \"gender\", \"satisfaction\"]].head(10)"
   ],
   "metadata": {
    "collapsed": false,
    "ExecuteTime": {
     "end_time": "2023-10-14T13:28:54.545011300Z",
     "start_time": "2023-10-14T13:28:54.305713900Z"
    }
   },
   "id": "8a687b5601d67d78"
  },
  {
   "cell_type": "markdown",
   "source": [
    "### 0.3.2 Clean items"
   ],
   "metadata": {
    "collapsed": false
   },
   "id": "1d77388a109dc778"
  },
  {
   "cell_type": "code",
   "execution_count": 117,
   "outputs": [
    {
     "data": {
      "text/plain": "                                               items  \\\n0  [{'name': 'envelopes', 'tags': ['stationary', ...   \n1  [{'name': 'binder', 'tags': ['school', 'genera...   \n2  [{'name': 'pens', 'tags': ['writing', 'office'...   \n3  [{'name': 'backpack', 'tags': ['school', 'trav...   \n4  [{'name': 'printer paper', 'tags': ['office', ...   \n5  [{'name': 'binder', 'tags': ['school', 'genera...   \n6  [{'name': 'envelopes', 'tags': ['stationary', ...   \n7  [{'name': 'pens', 'tags': ['writing', 'office'...   \n8  [{'name': 'laptop', 'tags': ['electronics', 's...   \n9  [{'name': 'printer paper', 'tags': ['office', ...   \n\n                                           item_list  total_price  \n0  [(envelopes, 80.5), (binder, 254.79), (notepad...      4405.57  \n1                [(binder, 107.52), (binder, 166.6)]       274.12  \n2  [(pens, 53.28), (laptop, 1217.84), (notepad, 3...      1946.37  \n3  [(backpack, 125.34), (printer paper, 38.93), (...       679.35  \n4  [(printer paper, 80.02), (notepad, 70.58), (pe...       849.88  \n5  [(binder, 117.74000000000001), (backpack, 714....       904.64  \n6  [(envelopes, 118.78999999999999), (notepad, 59...      3006.58  \n7  [(pens, 75.21), (backpack, 305.55), (envelopes...       861.18  \n8  [(laptop, 3450.96), (envelopes, 40.32), (binde...      3756.07  \n9              [(printer paper, 214.20000000000002)]       214.20  ",
      "text/html": "<div>\n<style scoped>\n    .dataframe tbody tr th:only-of-type {\n        vertical-align: middle;\n    }\n\n    .dataframe tbody tr th {\n        vertical-align: top;\n    }\n\n    .dataframe thead th {\n        text-align: right;\n    }\n</style>\n<table border=\"1\" class=\"dataframe\">\n  <thead>\n    <tr style=\"text-align: right;\">\n      <th></th>\n      <th>items</th>\n      <th>item_list</th>\n      <th>total_price</th>\n    </tr>\n  </thead>\n  <tbody>\n    <tr>\n      <th>0</th>\n      <td>[{'name': 'envelopes', 'tags': ['stationary', ...</td>\n      <td>[(envelopes, 80.5), (binder, 254.79), (notepad...</td>\n      <td>4405.57</td>\n    </tr>\n    <tr>\n      <th>1</th>\n      <td>[{'name': 'binder', 'tags': ['school', 'genera...</td>\n      <td>[(binder, 107.52), (binder, 166.6)]</td>\n      <td>274.12</td>\n    </tr>\n    <tr>\n      <th>2</th>\n      <td>[{'name': 'pens', 'tags': ['writing', 'office'...</td>\n      <td>[(pens, 53.28), (laptop, 1217.84), (notepad, 3...</td>\n      <td>1946.37</td>\n    </tr>\n    <tr>\n      <th>3</th>\n      <td>[{'name': 'backpack', 'tags': ['school', 'trav...</td>\n      <td>[(backpack, 125.34), (printer paper, 38.93), (...</td>\n      <td>679.35</td>\n    </tr>\n    <tr>\n      <th>4</th>\n      <td>[{'name': 'printer paper', 'tags': ['office', ...</td>\n      <td>[(printer paper, 80.02), (notepad, 70.58), (pe...</td>\n      <td>849.88</td>\n    </tr>\n    <tr>\n      <th>5</th>\n      <td>[{'name': 'binder', 'tags': ['school', 'genera...</td>\n      <td>[(binder, 117.74000000000001), (backpack, 714....</td>\n      <td>904.64</td>\n    </tr>\n    <tr>\n      <th>6</th>\n      <td>[{'name': 'envelopes', 'tags': ['stationary', ...</td>\n      <td>[(envelopes, 118.78999999999999), (notepad, 59...</td>\n      <td>3006.58</td>\n    </tr>\n    <tr>\n      <th>7</th>\n      <td>[{'name': 'pens', 'tags': ['writing', 'office'...</td>\n      <td>[(pens, 75.21), (backpack, 305.55), (envelopes...</td>\n      <td>861.18</td>\n    </tr>\n    <tr>\n      <th>8</th>\n      <td>[{'name': 'laptop', 'tags': ['electronics', 's...</td>\n      <td>[(laptop, 3450.96), (envelopes, 40.32), (binde...</td>\n      <td>3756.07</td>\n    </tr>\n    <tr>\n      <th>9</th>\n      <td>[{'name': 'printer paper', 'tags': ['office', ...</td>\n      <td>[(printer paper, 214.20000000000002)]</td>\n      <td>214.20</td>\n    </tr>\n  </tbody>\n</table>\n</div>"
     },
     "execution_count": 117,
     "metadata": {},
     "output_type": "execute_result"
    }
   ],
   "source": [
    "def getItemList(items):\n",
    "    item_list = []\n",
    "    for item in items:\n",
    "        item_list.append((item[\"name\"], float(item[\"price\"][\"$numberDecimal\"]) * item[\"quantity\"]))\n",
    "    return item_list\n",
    "\n",
    "def getTotalPrice(items):\n",
    "    total_price = 0\n",
    "    for item in items:\n",
    "        total_price += float(item[\"price\"][\"$numberDecimal\"]) * item[\"quantity\"]\n",
    "    return total_price\n",
    "\n",
    "sales_df[\"item_list\"] = sales_df[\"items\"].apply(getItemList)\n",
    "sales_df[\"total_price\"] = sales_df[\"items\"].apply(getTotalPrice)\n",
    "sales_df[[\"items\", \"item_list\", \"total_price\"]].head(10)"
   ],
   "metadata": {
    "collapsed": false,
    "ExecuteTime": {
     "end_time": "2023-10-14T13:28:54.546011100Z",
     "start_time": "2023-10-14T13:28:54.324273800Z"
    }
   },
   "id": "bbaa557cf38f527a"
  },
  {
   "cell_type": "markdown",
   "source": [
    "### 0.3.3 Clean saleDate"
   ],
   "metadata": {
    "collapsed": false
   },
   "id": "c6d5f721fef3fad5"
  },
  {
   "cell_type": "code",
   "execution_count": 118,
   "outputs": [
    {
     "data": {
      "text/plain": "                                saleDate month\n0  {'$date': '2015-08-25T10:01:02.918Z'}   Aug\n1  {'$date': '2015-09-02T16:11:59.565Z'}   Sep\n2  {'$date': '2014-08-18T04:37:26.849Z'}   Aug\n3  {'$date': '2017-09-14T10:52:42.206Z'}   Sep\n4  {'$date': '2015-03-23T21:06:49.506Z'}   Mar\n5  {'$date': '2015-11-12T12:06:07.052Z'}   Nov\n6  {'$date': '2017-03-21T01:54:26.657Z'}   Mar\n7  {'$date': '2015-07-25T07:20:29.804Z'}   Jul\n8  {'$date': '2016-08-15T04:05:03.298Z'}   Aug\n9  {'$date': '2017-02-09T12:08:51.353Z'}   Feb",
      "text/html": "<div>\n<style scoped>\n    .dataframe tbody tr th:only-of-type {\n        vertical-align: middle;\n    }\n\n    .dataframe tbody tr th {\n        vertical-align: top;\n    }\n\n    .dataframe thead th {\n        text-align: right;\n    }\n</style>\n<table border=\"1\" class=\"dataframe\">\n  <thead>\n    <tr style=\"text-align: right;\">\n      <th></th>\n      <th>saleDate</th>\n      <th>month</th>\n    </tr>\n  </thead>\n  <tbody>\n    <tr>\n      <th>0</th>\n      <td>{'$date': '2015-08-25T10:01:02.918Z'}</td>\n      <td>Aug</td>\n    </tr>\n    <tr>\n      <th>1</th>\n      <td>{'$date': '2015-09-02T16:11:59.565Z'}</td>\n      <td>Sep</td>\n    </tr>\n    <tr>\n      <th>2</th>\n      <td>{'$date': '2014-08-18T04:37:26.849Z'}</td>\n      <td>Aug</td>\n    </tr>\n    <tr>\n      <th>3</th>\n      <td>{'$date': '2017-09-14T10:52:42.206Z'}</td>\n      <td>Sep</td>\n    </tr>\n    <tr>\n      <th>4</th>\n      <td>{'$date': '2015-03-23T21:06:49.506Z'}</td>\n      <td>Mar</td>\n    </tr>\n    <tr>\n      <th>5</th>\n      <td>{'$date': '2015-11-12T12:06:07.052Z'}</td>\n      <td>Nov</td>\n    </tr>\n    <tr>\n      <th>6</th>\n      <td>{'$date': '2017-03-21T01:54:26.657Z'}</td>\n      <td>Mar</td>\n    </tr>\n    <tr>\n      <th>7</th>\n      <td>{'$date': '2015-07-25T07:20:29.804Z'}</td>\n      <td>Jul</td>\n    </tr>\n    <tr>\n      <th>8</th>\n      <td>{'$date': '2016-08-15T04:05:03.298Z'}</td>\n      <td>Aug</td>\n    </tr>\n    <tr>\n      <th>9</th>\n      <td>{'$date': '2017-02-09T12:08:51.353Z'}</td>\n      <td>Feb</td>\n    </tr>\n  </tbody>\n</table>\n</div>"
     },
     "execution_count": 118,
     "metadata": {},
     "output_type": "execute_result"
    }
   ],
   "source": [
    "def getSaleDate(date_dict):\n",
    "    date_value = date_dict['$date']\n",
    "    date_object = pd.to_datetime(date_value)\n",
    "    # %b is for \"abbreviated month name\"\n",
    "    return date_object.strftime('%b')\n",
    "\n",
    "# Apply the custom function to the DataFrame\n",
    "sales_df['month'] = sales_df['saleDate'].apply(getSaleDate)\n",
    "sales_df[[\"saleDate\", \"month\"]].head(10)"
   ],
   "metadata": {
    "collapsed": false,
    "ExecuteTime": {
     "end_time": "2023-10-14T13:28:58.249124300Z",
     "start_time": "2023-10-14T13:28:54.409481400Z"
    }
   },
   "id": "6baa9cac0488b236"
  },
  {
   "cell_type": "markdown",
   "source": [
    "### 0.3.4 Get only needed columns"
   ],
   "metadata": {
    "collapsed": false
   },
   "id": "d72b4e33c1645232"
  },
  {
   "cell_type": "code",
   "execution_count": 119,
   "outputs": [
    {
     "data": {
      "text/plain": "                                    _id  \\\n0  {'$oid': '5bd761dcae323e45a93ccfe9'}   \n1  {'$oid': '5bd761dcae323e45a93ccfed'}   \n2  {'$oid': '5bd761dcae323e45a93ccff1'}   \n3  {'$oid': '5bd761dcae323e45a93cd008'}   \n4  {'$oid': '5bd761dcae323e45a93ccfe8'}   \n\n                                saleDate  \\\n0  {'$date': '2015-08-25T10:01:02.918Z'}   \n1  {'$date': '2015-09-02T16:11:59.565Z'}   \n2  {'$date': '2014-08-18T04:37:26.849Z'}   \n3  {'$date': '2017-09-14T10:52:42.206Z'}   \n4  {'$date': '2015-03-23T21:06:49.506Z'}   \n\n                                               items storeLocation  \\\n0  [{'name': 'envelopes', 'tags': ['stationary', ...       Seattle   \n1  [{'name': 'binder', 'tags': ['school', 'genera...        London   \n2  [{'name': 'pens', 'tags': ['writing', 'office'...        Denver   \n3  [{'name': 'backpack', 'tags': ['school', 'trav...        Denver   \n4  [{'name': 'printer paper', 'tags': ['office', ...        Denver   \n\n                                            customer  couponUsed  \\\n0  {'gender': 'M', 'age': 50, 'email': 'keecade@h...       False   \n1  {'gender': 'M', 'age': 44, 'email': 'owtar@pu....       False   \n2  {'gender': 'M', 'age': 57, 'email': 'ohaguwu@n...       False   \n3  {'gender': 'F', 'age': 54, 'email': 'civma@roz...       False   \n4  {'gender': 'M', 'age': 42, 'email': 'cauho@wit...        True   \n\n  purchaseMethod  gender  satisfaction  \\\n0          Phone    Male             5   \n1       In store    Male             2   \n2       In store    Male             3   \n3       In store  Female             5   \n4         Online    Male             4   \n\n                                           item_list  total_price month  \n0  [(envelopes, 80.5), (binder, 254.79), (notepad...      4405.57   Aug  \n1                [(binder, 107.52), (binder, 166.6)]       274.12   Sep  \n2  [(pens, 53.28), (laptop, 1217.84), (notepad, 3...      1946.37   Aug  \n3  [(backpack, 125.34), (printer paper, 38.93), (...       679.35   Sep  \n4  [(printer paper, 80.02), (notepad, 70.58), (pe...       849.88   Mar  ",
      "text/html": "<div>\n<style scoped>\n    .dataframe tbody tr th:only-of-type {\n        vertical-align: middle;\n    }\n\n    .dataframe tbody tr th {\n        vertical-align: top;\n    }\n\n    .dataframe thead th {\n        text-align: right;\n    }\n</style>\n<table border=\"1\" class=\"dataframe\">\n  <thead>\n    <tr style=\"text-align: right;\">\n      <th></th>\n      <th>_id</th>\n      <th>saleDate</th>\n      <th>items</th>\n      <th>storeLocation</th>\n      <th>customer</th>\n      <th>couponUsed</th>\n      <th>purchaseMethod</th>\n      <th>gender</th>\n      <th>satisfaction</th>\n      <th>item_list</th>\n      <th>total_price</th>\n      <th>month</th>\n    </tr>\n  </thead>\n  <tbody>\n    <tr>\n      <th>0</th>\n      <td>{'$oid': '5bd761dcae323e45a93ccfe9'}</td>\n      <td>{'$date': '2015-08-25T10:01:02.918Z'}</td>\n      <td>[{'name': 'envelopes', 'tags': ['stationary', ...</td>\n      <td>Seattle</td>\n      <td>{'gender': 'M', 'age': 50, 'email': 'keecade@h...</td>\n      <td>False</td>\n      <td>Phone</td>\n      <td>Male</td>\n      <td>5</td>\n      <td>[(envelopes, 80.5), (binder, 254.79), (notepad...</td>\n      <td>4405.57</td>\n      <td>Aug</td>\n    </tr>\n    <tr>\n      <th>1</th>\n      <td>{'$oid': '5bd761dcae323e45a93ccfed'}</td>\n      <td>{'$date': '2015-09-02T16:11:59.565Z'}</td>\n      <td>[{'name': 'binder', 'tags': ['school', 'genera...</td>\n      <td>London</td>\n      <td>{'gender': 'M', 'age': 44, 'email': 'owtar@pu....</td>\n      <td>False</td>\n      <td>In store</td>\n      <td>Male</td>\n      <td>2</td>\n      <td>[(binder, 107.52), (binder, 166.6)]</td>\n      <td>274.12</td>\n      <td>Sep</td>\n    </tr>\n    <tr>\n      <th>2</th>\n      <td>{'$oid': '5bd761dcae323e45a93ccff1'}</td>\n      <td>{'$date': '2014-08-18T04:37:26.849Z'}</td>\n      <td>[{'name': 'pens', 'tags': ['writing', 'office'...</td>\n      <td>Denver</td>\n      <td>{'gender': 'M', 'age': 57, 'email': 'ohaguwu@n...</td>\n      <td>False</td>\n      <td>In store</td>\n      <td>Male</td>\n      <td>3</td>\n      <td>[(pens, 53.28), (laptop, 1217.84), (notepad, 3...</td>\n      <td>1946.37</td>\n      <td>Aug</td>\n    </tr>\n    <tr>\n      <th>3</th>\n      <td>{'$oid': '5bd761dcae323e45a93cd008'}</td>\n      <td>{'$date': '2017-09-14T10:52:42.206Z'}</td>\n      <td>[{'name': 'backpack', 'tags': ['school', 'trav...</td>\n      <td>Denver</td>\n      <td>{'gender': 'F', 'age': 54, 'email': 'civma@roz...</td>\n      <td>False</td>\n      <td>In store</td>\n      <td>Female</td>\n      <td>5</td>\n      <td>[(backpack, 125.34), (printer paper, 38.93), (...</td>\n      <td>679.35</td>\n      <td>Sep</td>\n    </tr>\n    <tr>\n      <th>4</th>\n      <td>{'$oid': '5bd761dcae323e45a93ccfe8'}</td>\n      <td>{'$date': '2015-03-23T21:06:49.506Z'}</td>\n      <td>[{'name': 'printer paper', 'tags': ['office', ...</td>\n      <td>Denver</td>\n      <td>{'gender': 'M', 'age': 42, 'email': 'cauho@wit...</td>\n      <td>True</td>\n      <td>Online</td>\n      <td>Male</td>\n      <td>4</td>\n      <td>[(printer paper, 80.02), (notepad, 70.58), (pe...</td>\n      <td>849.88</td>\n      <td>Mar</td>\n    </tr>\n  </tbody>\n</table>\n</div>"
     },
     "execution_count": 119,
     "metadata": {},
     "output_type": "execute_result"
    }
   ],
   "source": [
    "sales_df.head()"
   ],
   "metadata": {
    "collapsed": false,
    "ExecuteTime": {
     "end_time": "2023-10-14T13:28:58.309579100Z",
     "start_time": "2023-10-14T13:28:58.244126500Z"
    }
   },
   "id": "51baec6e545ee31f"
  },
  {
   "cell_type": "code",
   "execution_count": 120,
   "outputs": [
    {
     "data": {
      "text/plain": "  month  gender purchaseMethod  satisfaction storeLocation  \\\n0   Aug    Male          Phone             5       Seattle   \n1   Sep    Male       In store             2        London   \n2   Aug    Male       In store             3        Denver   \n3   Sep  Female       In store             5        Denver   \n4   Mar    Male         Online             4        Denver   \n5   Nov    Male       In store             4        Denver   \n6   Mar    Male       In store             5      New York   \n7   Jul  Female          Phone             4       Seattle   \n8   Aug  Female       In store             4     San Diego   \n9   Feb    Male       In store             3        Denver   \n\n                                           item_list  total_price  \n0  [(envelopes, 80.5), (binder, 254.79), (notepad...      4405.57  \n1                [(binder, 107.52), (binder, 166.6)]       274.12  \n2  [(pens, 53.28), (laptop, 1217.84), (notepad, 3...      1946.37  \n3  [(backpack, 125.34), (printer paper, 38.93), (...       679.35  \n4  [(printer paper, 80.02), (notepad, 70.58), (pe...       849.88  \n5  [(binder, 117.74000000000001), (backpack, 714....       904.64  \n6  [(envelopes, 118.78999999999999), (notepad, 59...      3006.58  \n7  [(pens, 75.21), (backpack, 305.55), (envelopes...       861.18  \n8  [(laptop, 3450.96), (envelopes, 40.32), (binde...      3756.07  \n9              [(printer paper, 214.20000000000002)]       214.20  ",
      "text/html": "<div>\n<style scoped>\n    .dataframe tbody tr th:only-of-type {\n        vertical-align: middle;\n    }\n\n    .dataframe tbody tr th {\n        vertical-align: top;\n    }\n\n    .dataframe thead th {\n        text-align: right;\n    }\n</style>\n<table border=\"1\" class=\"dataframe\">\n  <thead>\n    <tr style=\"text-align: right;\">\n      <th></th>\n      <th>month</th>\n      <th>gender</th>\n      <th>purchaseMethod</th>\n      <th>satisfaction</th>\n      <th>storeLocation</th>\n      <th>item_list</th>\n      <th>total_price</th>\n    </tr>\n  </thead>\n  <tbody>\n    <tr>\n      <th>0</th>\n      <td>Aug</td>\n      <td>Male</td>\n      <td>Phone</td>\n      <td>5</td>\n      <td>Seattle</td>\n      <td>[(envelopes, 80.5), (binder, 254.79), (notepad...</td>\n      <td>4405.57</td>\n    </tr>\n    <tr>\n      <th>1</th>\n      <td>Sep</td>\n      <td>Male</td>\n      <td>In store</td>\n      <td>2</td>\n      <td>London</td>\n      <td>[(binder, 107.52), (binder, 166.6)]</td>\n      <td>274.12</td>\n    </tr>\n    <tr>\n      <th>2</th>\n      <td>Aug</td>\n      <td>Male</td>\n      <td>In store</td>\n      <td>3</td>\n      <td>Denver</td>\n      <td>[(pens, 53.28), (laptop, 1217.84), (notepad, 3...</td>\n      <td>1946.37</td>\n    </tr>\n    <tr>\n      <th>3</th>\n      <td>Sep</td>\n      <td>Female</td>\n      <td>In store</td>\n      <td>5</td>\n      <td>Denver</td>\n      <td>[(backpack, 125.34), (printer paper, 38.93), (...</td>\n      <td>679.35</td>\n    </tr>\n    <tr>\n      <th>4</th>\n      <td>Mar</td>\n      <td>Male</td>\n      <td>Online</td>\n      <td>4</td>\n      <td>Denver</td>\n      <td>[(printer paper, 80.02), (notepad, 70.58), (pe...</td>\n      <td>849.88</td>\n    </tr>\n    <tr>\n      <th>5</th>\n      <td>Nov</td>\n      <td>Male</td>\n      <td>In store</td>\n      <td>4</td>\n      <td>Denver</td>\n      <td>[(binder, 117.74000000000001), (backpack, 714....</td>\n      <td>904.64</td>\n    </tr>\n    <tr>\n      <th>6</th>\n      <td>Mar</td>\n      <td>Male</td>\n      <td>In store</td>\n      <td>5</td>\n      <td>New York</td>\n      <td>[(envelopes, 118.78999999999999), (notepad, 59...</td>\n      <td>3006.58</td>\n    </tr>\n    <tr>\n      <th>7</th>\n      <td>Jul</td>\n      <td>Female</td>\n      <td>Phone</td>\n      <td>4</td>\n      <td>Seattle</td>\n      <td>[(pens, 75.21), (backpack, 305.55), (envelopes...</td>\n      <td>861.18</td>\n    </tr>\n    <tr>\n      <th>8</th>\n      <td>Aug</td>\n      <td>Female</td>\n      <td>In store</td>\n      <td>4</td>\n      <td>San Diego</td>\n      <td>[(laptop, 3450.96), (envelopes, 40.32), (binde...</td>\n      <td>3756.07</td>\n    </tr>\n    <tr>\n      <th>9</th>\n      <td>Feb</td>\n      <td>Male</td>\n      <td>In store</td>\n      <td>3</td>\n      <td>Denver</td>\n      <td>[(printer paper, 214.20000000000002)]</td>\n      <td>214.20</td>\n    </tr>\n  </tbody>\n</table>\n</div>"
     },
     "execution_count": 120,
     "metadata": {},
     "output_type": "execute_result"
    }
   ],
   "source": [
    "sales_df = sales_df[[\"month\", \"gender\", \"purchaseMethod\", \"satisfaction\", \"storeLocation\", \"item_list\", \"total_price\"]]\n",
    "sales_df.head(10)"
   ],
   "metadata": {
    "collapsed": false,
    "ExecuteTime": {
     "end_time": "2023-10-14T13:28:58.359267200Z",
     "start_time": "2023-10-14T13:28:58.279589400Z"
    }
   },
   "id": "fe47e9f495a2c7e1"
  },
  {
   "cell_type": "markdown",
   "source": [
    "# 1. Show top 10 products (name) sales (quantity x price).\n"
   ],
   "metadata": {
    "collapsed": false
   },
   "id": "96cc0f9d177d8e4b"
  },
  {
   "cell_type": "markdown",
   "source": [
    "## 1.1 Explode(Flatten) the item_list"
   ],
   "metadata": {
    "collapsed": false
   },
   "id": "816e9b8b05be4ca8"
  },
  {
   "cell_type": "code",
   "execution_count": 121,
   "outputs": [
    {
     "data": {
      "text/plain": "     month gender purchaseMethod  satisfaction storeLocation  \\\n0      Aug   Male          Phone             5       Seattle   \n0      Aug   Male          Phone             5       Seattle   \n0      Aug   Male          Phone             5       Seattle   \n0      Aug   Male          Phone             5       Seattle   \n0      Aug   Male          Phone             5       Seattle   \n...    ...    ...            ...           ...           ...   \n4998   Oct   Male         Online             4        Denver   \n4998   Oct   Male         Online             4        Denver   \n4999   May   Male       In store             5       Seattle   \n4999   May   Male       In store             5       Seattle   \n4999   May   Male       In store             5       Seattle   \n\n                          item_list  total_price  \n0                 (envelopes, 80.5)      4405.57  \n0                  (binder, 254.79)      4405.57  \n0     (notepad, 62.849999999999994)      4405.57  \n0                  (laptop, 3466.0)      4405.57  \n0                 (notepad, 132.36)      4405.57  \n...                             ...          ...  \n4998         (printer paper, 44.84)       843.72  \n4998              (notepad, 142.92)       843.72  \n4999               (notepad, 21.01)      1548.40  \n4999              (laptop, 1337.46)      1548.40  \n4999                 (pens, 189.93)      1548.40  \n\n[27438 rows x 7 columns]",
      "text/html": "<div>\n<style scoped>\n    .dataframe tbody tr th:only-of-type {\n        vertical-align: middle;\n    }\n\n    .dataframe tbody tr th {\n        vertical-align: top;\n    }\n\n    .dataframe thead th {\n        text-align: right;\n    }\n</style>\n<table border=\"1\" class=\"dataframe\">\n  <thead>\n    <tr style=\"text-align: right;\">\n      <th></th>\n      <th>month</th>\n      <th>gender</th>\n      <th>purchaseMethod</th>\n      <th>satisfaction</th>\n      <th>storeLocation</th>\n      <th>item_list</th>\n      <th>total_price</th>\n    </tr>\n  </thead>\n  <tbody>\n    <tr>\n      <th>0</th>\n      <td>Aug</td>\n      <td>Male</td>\n      <td>Phone</td>\n      <td>5</td>\n      <td>Seattle</td>\n      <td>(envelopes, 80.5)</td>\n      <td>4405.57</td>\n    </tr>\n    <tr>\n      <th>0</th>\n      <td>Aug</td>\n      <td>Male</td>\n      <td>Phone</td>\n      <td>5</td>\n      <td>Seattle</td>\n      <td>(binder, 254.79)</td>\n      <td>4405.57</td>\n    </tr>\n    <tr>\n      <th>0</th>\n      <td>Aug</td>\n      <td>Male</td>\n      <td>Phone</td>\n      <td>5</td>\n      <td>Seattle</td>\n      <td>(notepad, 62.849999999999994)</td>\n      <td>4405.57</td>\n    </tr>\n    <tr>\n      <th>0</th>\n      <td>Aug</td>\n      <td>Male</td>\n      <td>Phone</td>\n      <td>5</td>\n      <td>Seattle</td>\n      <td>(laptop, 3466.0)</td>\n      <td>4405.57</td>\n    </tr>\n    <tr>\n      <th>0</th>\n      <td>Aug</td>\n      <td>Male</td>\n      <td>Phone</td>\n      <td>5</td>\n      <td>Seattle</td>\n      <td>(notepad, 132.36)</td>\n      <td>4405.57</td>\n    </tr>\n    <tr>\n      <th>...</th>\n      <td>...</td>\n      <td>...</td>\n      <td>...</td>\n      <td>...</td>\n      <td>...</td>\n      <td>...</td>\n      <td>...</td>\n    </tr>\n    <tr>\n      <th>4998</th>\n      <td>Oct</td>\n      <td>Male</td>\n      <td>Online</td>\n      <td>4</td>\n      <td>Denver</td>\n      <td>(printer paper, 44.84)</td>\n      <td>843.72</td>\n    </tr>\n    <tr>\n      <th>4998</th>\n      <td>Oct</td>\n      <td>Male</td>\n      <td>Online</td>\n      <td>4</td>\n      <td>Denver</td>\n      <td>(notepad, 142.92)</td>\n      <td>843.72</td>\n    </tr>\n    <tr>\n      <th>4999</th>\n      <td>May</td>\n      <td>Male</td>\n      <td>In store</td>\n      <td>5</td>\n      <td>Seattle</td>\n      <td>(notepad, 21.01)</td>\n      <td>1548.40</td>\n    </tr>\n    <tr>\n      <th>4999</th>\n      <td>May</td>\n      <td>Male</td>\n      <td>In store</td>\n      <td>5</td>\n      <td>Seattle</td>\n      <td>(laptop, 1337.46)</td>\n      <td>1548.40</td>\n    </tr>\n    <tr>\n      <th>4999</th>\n      <td>May</td>\n      <td>Male</td>\n      <td>In store</td>\n      <td>5</td>\n      <td>Seattle</td>\n      <td>(pens, 189.93)</td>\n      <td>1548.40</td>\n    </tr>\n  </tbody>\n</table>\n<p>27438 rows × 7 columns</p>\n</div>"
     },
     "execution_count": 121,
     "metadata": {},
     "output_type": "execute_result"
    }
   ],
   "source": [
    "sales_df.explode(\"item_list\")"
   ],
   "metadata": {
    "collapsed": false,
    "ExecuteTime": {
     "end_time": "2023-10-14T13:28:58.361267400Z",
     "start_time": "2023-10-14T13:28:58.301578500Z"
    }
   },
   "id": "e74fb86c32d7c16b"
  },
  {
   "cell_type": "code",
   "execution_count": 122,
   "outputs": [
    {
     "data": {
      "text/plain": "                       item_list\n0              (envelopes, 80.5)\n1               (binder, 254.79)\n2  (notepad, 62.849999999999994)\n3               (laptop, 3466.0)\n4              (notepad, 132.36)\n5         (printer paper, 37.55)\n6             (backpack, 166.56)\n7                  (pens, 171.6)\n8             (envelopes, 33.36)\n9               (binder, 107.52)",
      "text/html": "<div>\n<style scoped>\n    .dataframe tbody tr th:only-of-type {\n        vertical-align: middle;\n    }\n\n    .dataframe tbody tr th {\n        vertical-align: top;\n    }\n\n    .dataframe thead th {\n        text-align: right;\n    }\n</style>\n<table border=\"1\" class=\"dataframe\">\n  <thead>\n    <tr style=\"text-align: right;\">\n      <th></th>\n      <th>item_list</th>\n    </tr>\n  </thead>\n  <tbody>\n    <tr>\n      <th>0</th>\n      <td>(envelopes, 80.5)</td>\n    </tr>\n    <tr>\n      <th>1</th>\n      <td>(binder, 254.79)</td>\n    </tr>\n    <tr>\n      <th>2</th>\n      <td>(notepad, 62.849999999999994)</td>\n    </tr>\n    <tr>\n      <th>3</th>\n      <td>(laptop, 3466.0)</td>\n    </tr>\n    <tr>\n      <th>4</th>\n      <td>(notepad, 132.36)</td>\n    </tr>\n    <tr>\n      <th>5</th>\n      <td>(printer paper, 37.55)</td>\n    </tr>\n    <tr>\n      <th>6</th>\n      <td>(backpack, 166.56)</td>\n    </tr>\n    <tr>\n      <th>7</th>\n      <td>(pens, 171.6)</td>\n    </tr>\n    <tr>\n      <th>8</th>\n      <td>(envelopes, 33.36)</td>\n    </tr>\n    <tr>\n      <th>9</th>\n      <td>(binder, 107.52)</td>\n    </tr>\n  </tbody>\n</table>\n</div>"
     },
     "execution_count": 122,
     "metadata": {},
     "output_type": "execute_result"
    }
   ],
   "source": [
    "item_df = sales_df.explode(\"item_list\")[[\"item_list\"]].reset_index(drop=True)\n",
    "item_df.head(10)"
   ],
   "metadata": {
    "collapsed": false,
    "ExecuteTime": {
     "end_time": "2023-10-14T13:28:58.406244100Z",
     "start_time": "2023-10-14T13:28:58.329177Z"
    }
   },
   "id": "b6e52870f86a977a"
  },
  {
   "cell_type": "markdown",
   "source": [
    "## 1.2 Seperate item_name and item_price"
   ],
   "metadata": {
    "collapsed": false
   },
   "id": "20239da54c7f4654"
  },
  {
   "cell_type": "code",
   "execution_count": 123,
   "outputs": [
    {
     "data": {
      "text/plain": "       item_name    sales\n0      envelopes    80.50\n1         binder   254.79\n2        notepad    62.85\n3         laptop  3466.00\n4        notepad   132.36\n5  printer paper    37.55\n6       backpack   166.56\n7           pens   171.60\n8      envelopes    33.36\n9         binder   107.52",
      "text/html": "<div>\n<style scoped>\n    .dataframe tbody tr th:only-of-type {\n        vertical-align: middle;\n    }\n\n    .dataframe tbody tr th {\n        vertical-align: top;\n    }\n\n    .dataframe thead th {\n        text-align: right;\n    }\n</style>\n<table border=\"1\" class=\"dataframe\">\n  <thead>\n    <tr style=\"text-align: right;\">\n      <th></th>\n      <th>item_name</th>\n      <th>sales</th>\n    </tr>\n  </thead>\n  <tbody>\n    <tr>\n      <th>0</th>\n      <td>envelopes</td>\n      <td>80.50</td>\n    </tr>\n    <tr>\n      <th>1</th>\n      <td>binder</td>\n      <td>254.79</td>\n    </tr>\n    <tr>\n      <th>2</th>\n      <td>notepad</td>\n      <td>62.85</td>\n    </tr>\n    <tr>\n      <th>3</th>\n      <td>laptop</td>\n      <td>3466.00</td>\n    </tr>\n    <tr>\n      <th>4</th>\n      <td>notepad</td>\n      <td>132.36</td>\n    </tr>\n    <tr>\n      <th>5</th>\n      <td>printer paper</td>\n      <td>37.55</td>\n    </tr>\n    <tr>\n      <th>6</th>\n      <td>backpack</td>\n      <td>166.56</td>\n    </tr>\n    <tr>\n      <th>7</th>\n      <td>pens</td>\n      <td>171.60</td>\n    </tr>\n    <tr>\n      <th>8</th>\n      <td>envelopes</td>\n      <td>33.36</td>\n    </tr>\n    <tr>\n      <th>9</th>\n      <td>binder</td>\n      <td>107.52</td>\n    </tr>\n  </tbody>\n</table>\n</div>"
     },
     "execution_count": 123,
     "metadata": {},
     "output_type": "execute_result"
    }
   ],
   "source": [
    "item_df[\"item_name\"] = item_df[\"item_list\"].apply(lambda x: x[0])\n",
    "item_df[\"sales\"] = item_df[\"item_list\"].apply(lambda x: x[1])\n",
    "item_df = item_df[[\"item_name\", \"sales\"]]\n",
    "item_df.head(10)"
   ],
   "metadata": {
    "collapsed": false,
    "ExecuteTime": {
     "end_time": "2023-10-14T13:28:58.479757800Z",
     "start_time": "2023-10-14T13:28:58.354752900Z"
    }
   },
   "id": "306736901719b082"
  },
  {
   "cell_type": "markdown",
   "source": [
    "## 1.3 Aggregate by item_name to find items with the most sales"
   ],
   "metadata": {
    "collapsed": false
   },
   "id": "d5938cf9f93b85b8"
  },
  {
   "cell_type": "code",
   "execution_count": 130,
   "outputs": [
    {
     "data": {
      "text/plain": "                    sales\nitem_name                \nlaptop         6775977.07\nbackpack        817374.10\npens            581843.27\nbinder          511644.57\nnotepad         463615.48\nenvelopes       376658.49\nprinter paper   367459.29",
      "text/html": "<div>\n<style scoped>\n    .dataframe tbody tr th:only-of-type {\n        vertical-align: middle;\n    }\n\n    .dataframe tbody tr th {\n        vertical-align: top;\n    }\n\n    .dataframe thead th {\n        text-align: right;\n    }\n</style>\n<table border=\"1\" class=\"dataframe\">\n  <thead>\n    <tr style=\"text-align: right;\">\n      <th></th>\n      <th>sales</th>\n    </tr>\n    <tr>\n      <th>item_name</th>\n      <th></th>\n    </tr>\n  </thead>\n  <tbody>\n    <tr>\n      <th>laptop</th>\n      <td>6775977.07</td>\n    </tr>\n    <tr>\n      <th>backpack</th>\n      <td>817374.10</td>\n    </tr>\n    <tr>\n      <th>pens</th>\n      <td>581843.27</td>\n    </tr>\n    <tr>\n      <th>binder</th>\n      <td>511644.57</td>\n    </tr>\n    <tr>\n      <th>notepad</th>\n      <td>463615.48</td>\n    </tr>\n    <tr>\n      <th>envelopes</th>\n      <td>376658.49</td>\n    </tr>\n    <tr>\n      <th>printer paper</th>\n      <td>367459.29</td>\n    </tr>\n  </tbody>\n</table>\n</div>"
     },
     "execution_count": 130,
     "metadata": {},
     "output_type": "execute_result"
    },
    {
     "data": {
      "text/plain": "<Figure size 640x480 with 1 Axes>",
      "image/png": "[encoded data removed]"
     },
     "metadata": {},
     "output_type": "display_data"
    }
   ],
   "source": [
    "item_df.groupby(\"item_name\").sum().sort_values(by=\"sales\", ascending=True).plot.barh()\n",
    "item_df.groupby(\"item_name\").sum().sort_values(by=\"sales\", ascending=False)"
   ],
   "metadata": {
    "collapsed": false,
    "ExecuteTime": {
     "end_time": "2023-10-14T13:32:16.252716500Z",
     "start_time": "2023-10-14T13:32:16.063206900Z"
    }
   },
   "id": "ed4d97470795d81"
  },
  {
   "cell_type": "markdown",
   "source": [
    "## According to the graph and table, there are only 7 products in this store. Laptop made the most sales ,making 6775977.07 dollars in total. This is because laptop is more expensive than other products. \n",
    "## The second most sales is made by backpack, making 817374.10 dollars in total. The third most sales is made by pen, making 581843.27 dollars in total, followed by binder, notepad, envelopes, and printer paper."
   ],
   "metadata": {
    "collapsed": false
   },
   "id": "2f5c93d4742c08a"
  },
  {
   "cell_type": "markdown",
   "source": [
    "# 2. Show top 3 products (name) sales by store (location).\n"
   ],
   "metadata": {
    "collapsed": false
   },
   "id": "162b0f3c48af227"
  },
  {
   "cell_type": "markdown",
   "source": [
    "## 2.1 Explode(Flatten) the item_list"
   ],
   "metadata": {
    "collapsed": false
   },
   "id": "d5d3b67a59672634"
  },
  {
   "cell_type": "code",
   "execution_count": 131,
   "outputs": [
    {
     "data": {
      "text/plain": "  storeLocation                      item_list\n0       Seattle              (envelopes, 80.5)\n1       Seattle               (binder, 254.79)\n2       Seattle  (notepad, 62.849999999999994)\n3       Seattle               (laptop, 3466.0)\n4       Seattle              (notepad, 132.36)\n5       Seattle         (printer paper, 37.55)\n6       Seattle             (backpack, 166.56)\n7       Seattle                  (pens, 171.6)\n8       Seattle             (envelopes, 33.36)\n9        London               (binder, 107.52)",
      "text/html": "<div>\n<style scoped>\n    .dataframe tbody tr th:only-of-type {\n        vertical-align: middle;\n    }\n\n    .dataframe tbody tr th {\n        vertical-align: top;\n    }\n\n    .dataframe thead th {\n        text-align: right;\n    }\n</style>\n<table border=\"1\" class=\"dataframe\">\n  <thead>\n    <tr style=\"text-align: right;\">\n      <th></th>\n      <th>storeLocation</th>\n      <th>item_list</th>\n    </tr>\n  </thead>\n  <tbody>\n    <tr>\n      <th>0</th>\n      <td>Seattle</td>\n      <td>(envelopes, 80.5)</td>\n    </tr>\n    <tr>\n      <th>1</th>\n      <td>Seattle</td>\n      <td>(binder, 254.79)</td>\n    </tr>\n    <tr>\n      <th>2</th>\n      <td>Seattle</td>\n      <td>(notepad, 62.849999999999994)</td>\n    </tr>\n    <tr>\n      <th>3</th>\n      <td>Seattle</td>\n      <td>(laptop, 3466.0)</td>\n    </tr>\n    <tr>\n      <th>4</th>\n      <td>Seattle</td>\n      <td>(notepad, 132.36)</td>\n    </tr>\n    <tr>\n      <th>5</th>\n      <td>Seattle</td>\n      <td>(printer paper, 37.55)</td>\n    </tr>\n    <tr>\n      <th>6</th>\n      <td>Seattle</td>\n      <td>(backpack, 166.56)</td>\n    </tr>\n    <tr>\n      <th>7</th>\n      <td>Seattle</td>\n      <td>(pens, 171.6)</td>\n    </tr>\n    <tr>\n      <th>8</th>\n      <td>Seattle</td>\n      <td>(envelopes, 33.36)</td>\n    </tr>\n    <tr>\n      <th>9</th>\n      <td>London</td>\n      <td>(binder, 107.52)</td>\n    </tr>\n  </tbody>\n</table>\n</div>"
     },
     "execution_count": 131,
     "metadata": {},
     "output_type": "execute_result"
    }
   ],
   "source": [
    "item_df = sales_df.explode(\"item_list\")[[\"storeLocation\", \"item_list\"]].reset_index(drop=True)\n",
    "item_df.head(10)"
   ],
   "metadata": {
    "collapsed": false,
    "ExecuteTime": {
     "end_time": "2023-10-14T13:46:37.509792300Z",
     "start_time": "2023-10-14T13:46:37.460724500Z"
    }
   },
   "id": "1ab1925b6ddc9fa4"
  },
  {
   "cell_type": "markdown",
   "source": [
    "## 2.2 Seperate item_name and item_price"
   ],
   "metadata": {
    "collapsed": false
   },
   "id": "8db34587f8b34a3"
  },
  {
   "cell_type": "code",
   "execution_count": 132,
   "outputs": [
    {
     "data": {
      "text/plain": "  storeLocation      item_name    sales\n0       Seattle      envelopes    80.50\n1       Seattle         binder   254.79\n2       Seattle        notepad    62.85\n3       Seattle         laptop  3466.00\n4       Seattle        notepad   132.36\n5       Seattle  printer paper    37.55\n6       Seattle       backpack   166.56\n7       Seattle           pens   171.60\n8       Seattle      envelopes    33.36\n9        London         binder   107.52",
      "text/html": "<div>\n<style scoped>\n    .dataframe tbody tr th:only-of-type {\n        vertical-align: middle;\n    }\n\n    .dataframe tbody tr th {\n        vertical-align: top;\n    }\n\n    .dataframe thead th {\n        text-align: right;\n    }\n</style>\n<table border=\"1\" class=\"dataframe\">\n  <thead>\n    <tr style=\"text-align: right;\">\n      <th></th>\n      <th>storeLocation</th>\n      <th>item_name</th>\n      <th>sales</th>\n    </tr>\n  </thead>\n  <tbody>\n    <tr>\n      <th>0</th>\n      <td>Seattle</td>\n      <td>envelopes</td>\n      <td>80.50</td>\n    </tr>\n    <tr>\n      <th>1</th>\n      <td>Seattle</td>\n      <td>binder</td>\n      <td>254.79</td>\n    </tr>\n    <tr>\n      <th>2</th>\n      <td>Seattle</td>\n      <td>notepad</td>\n      <td>62.85</td>\n    </tr>\n    <tr>\n      <th>3</th>\n      <td>Seattle</td>\n      <td>laptop</td>\n      <td>3466.00</td>\n    </tr>\n    <tr>\n      <th>4</th>\n      <td>Seattle</td>\n      <td>notepad</td>\n      <td>132.36</td>\n    </tr>\n    <tr>\n      <th>5</th>\n      <td>Seattle</td>\n      <td>printer paper</td>\n      <td>37.55</td>\n    </tr>\n    <tr>\n      <th>6</th>\n      <td>Seattle</td>\n      <td>backpack</td>\n      <td>166.56</td>\n    </tr>\n    <tr>\n      <th>7</th>\n      <td>Seattle</td>\n      <td>pens</td>\n      <td>171.60</td>\n    </tr>\n    <tr>\n      <th>8</th>\n      <td>Seattle</td>\n      <td>envelopes</td>\n      <td>33.36</td>\n    </tr>\n    <tr>\n      <th>9</th>\n      <td>London</td>\n      <td>binder</td>\n      <td>107.52</td>\n    </tr>\n  </tbody>\n</table>\n</div>"
     },
     "execution_count": 132,
     "metadata": {},
     "output_type": "execute_result"
    }
   ],
   "source": [
    "item_df[\"item_name\"] = item_df[\"item_list\"].apply(lambda x: x[0])\n",
    "item_df[\"sales\"] = item_df[\"item_list\"].apply(lambda x: x[1])\n",
    "item_df = item_df[[\"storeLocation\", \"item_name\", \"sales\"]]\n",
    "item_df.head(10)"
   ],
   "metadata": {
    "collapsed": false,
    "ExecuteTime": {
     "end_time": "2023-10-14T13:47:09.844831900Z",
     "start_time": "2023-10-14T13:47:09.811769700Z"
    }
   },
   "id": "839ed4c6f40f0"
  },
  {
   "cell_type": "markdown",
   "source": [
    "## 2.3 Find Top 3 items in each store"
   ],
   "metadata": {
    "collapsed": false
   },
   "id": "691ef1d22063cf4a"
  },
  {
   "cell_type": "code",
   "execution_count": 156,
   "outputs": [
    {
     "data": {
      "text/plain": "                              sales\nstoreLocation item_name            \nAustin        laptop     1018494.05\n              backpack    115217.59\n              pens         74622.52\nDenver        laptop     1961659.25\n              backpack    245679.34\n              pens        185008.39\nLondon        laptop     1073098.72\n              backpack    144529.14\n              pens         92602.30\nNew York      laptop      694613.32\n              backpack     82563.14\n              pens         64029.90\nSan Diego     laptop      462973.58\n              backpack     50997.42\n              pens         42134.55\nSeattle       laptop     1565138.15\n              backpack    178387.47\n              pens        123445.61",
      "text/html": "<div>\n<style scoped>\n    .dataframe tbody tr th:only-of-type {\n        vertical-align: middle;\n    }\n\n    .dataframe tbody tr th {\n        vertical-align: top;\n    }\n\n    .dataframe thead th {\n        text-align: right;\n    }\n</style>\n<table border=\"1\" class=\"dataframe\">\n  <thead>\n    <tr style=\"text-align: right;\">\n      <th></th>\n      <th></th>\n      <th>sales</th>\n    </tr>\n    <tr>\n      <th>storeLocation</th>\n      <th>item_name</th>\n      <th></th>\n    </tr>\n  </thead>\n  <tbody>\n    <tr>\n      <th rowspan=\"3\" valign=\"top\">Austin</th>\n      <th>laptop</th>\n      <td>1018494.05</td>\n    </tr>\n    <tr>\n      <th>backpack</th>\n      <td>115217.59</td>\n    </tr>\n    <tr>\n      <th>pens</th>\n      <td>74622.52</td>\n    </tr>\n    <tr>\n      <th rowspan=\"3\" valign=\"top\">Denver</th>\n      <th>laptop</th>\n      <td>1961659.25</td>\n    </tr>\n    <tr>\n      <th>backpack</th>\n      <td>245679.34</td>\n    </tr>\n    <tr>\n      <th>pens</th>\n      <td>185008.39</td>\n    </tr>\n    <tr>\n      <th rowspan=\"3\" valign=\"top\">London</th>\n      <th>laptop</th>\n      <td>1073098.72</td>\n    </tr>\n    <tr>\n      <th>backpack</th>\n      <td>144529.14</td>\n    </tr>\n    <tr>\n      <th>pens</th>\n      <td>92602.30</td>\n    </tr>\n    <tr>\n      <th rowspan=\"3\" valign=\"top\">New York</th>\n      <th>laptop</th>\n      <td>694613.32</td>\n    </tr>\n    <tr>\n      <th>backpack</th>\n      <td>82563.14</td>\n    </tr>\n    <tr>\n      <th>pens</th>\n      <td>64029.90</td>\n    </tr>\n    <tr>\n      <th rowspan=\"3\" valign=\"top\">San Diego</th>\n      <th>laptop</th>\n      <td>462973.58</td>\n    </tr>\n    <tr>\n      <th>backpack</th>\n      <td>50997.42</td>\n    </tr>\n    <tr>\n      <th>pens</th>\n      <td>42134.55</td>\n    </tr>\n    <tr>\n      <th rowspan=\"3\" valign=\"top\">Seattle</th>\n      <th>laptop</th>\n      <td>1565138.15</td>\n    </tr>\n    <tr>\n      <th>backpack</th>\n      <td>178387.47</td>\n    </tr>\n    <tr>\n      <th>pens</th>\n      <td>123445.61</td>\n    </tr>\n  </tbody>\n</table>\n</div>"
     },
     "execution_count": 156,
     "metadata": {},
     "output_type": "execute_result"
    }
   ],
   "source": [
    "# Aggregate by each storeLocation and item_name to find top 3 items in each store\n",
    "result = (item_df.groupby([\"storeLocation\", \"item_name\"]).sum().\n",
    "          sort_values(by=[\"storeLocation\", \"sales\"], ascending=[True, False]).\n",
    "          groupby(\"storeLocation\").head(3))\n",
    "\n",
    "result"
   ],
   "metadata": {
    "collapsed": false,
    "ExecuteTime": {
     "end_time": "2023-10-14T14:09:51.904953Z",
     "start_time": "2023-10-14T14:09:51.856930Z"
    }
   },
   "id": "cae40971c02cda22"
  },
  {
   "cell_type": "markdown",
   "source": [
    "## According to the table, Laptop, backpack, and pens are the top 3 items in every store."
   ],
   "metadata": {
    "collapsed": false
   },
   "id": "41055899e3cc4c9f"
  },
  {
   "cell_type": "markdown",
   "source": [
    "## 2.4 Find the top 3 store with the most sales"
   ],
   "metadata": {
    "collapsed": false
   },
   "id": "bf87b964c023046f"
  },
  {
   "cell_type": "code",
   "execution_count": 161,
   "outputs": [
    {
     "data": {
      "text/plain": "                    sales\nstoreLocation            \nDenver         2392346.98\nSeattle        1866971.23\nLondon         1310230.16",
      "text/html": "<div>\n<style scoped>\n    .dataframe tbody tr th:only-of-type {\n        vertical-align: middle;\n    }\n\n    .dataframe tbody tr th {\n        vertical-align: top;\n    }\n\n    .dataframe thead th {\n        text-align: right;\n    }\n</style>\n<table border=\"1\" class=\"dataframe\">\n  <thead>\n    <tr style=\"text-align: right;\">\n      <th></th>\n      <th>sales</th>\n    </tr>\n    <tr>\n      <th>storeLocation</th>\n      <th></th>\n    </tr>\n  </thead>\n  <tbody>\n    <tr>\n      <th>Denver</th>\n      <td>2392346.98</td>\n    </tr>\n    <tr>\n      <th>Seattle</th>\n      <td>1866971.23</td>\n    </tr>\n    <tr>\n      <th>London</th>\n      <td>1310230.16</td>\n    </tr>\n  </tbody>\n</table>\n</div>"
     },
     "execution_count": 161,
     "metadata": {},
     "output_type": "execute_result"
    },
    {
     "data": {
      "text/plain": "<Figure size 640x480 with 1 Axes>",
      "image/png": "[encoded data removed]"
     },
     "metadata": {},
     "output_type": "display_data"
    }
   ],
   "source": [
    "result.groupby(\"storeLocation\").sum().sort_values(by=\"sales\", ascending=False).head(3).sort_values(by=\"sales\", ascending=True).plot.barh()\n",
    "result.groupby(\"storeLocation\").sum().sort_values(by=\"sales\", ascending=False).head(3)"
   ],
   "metadata": {
    "collapsed": false,
    "ExecuteTime": {
     "end_time": "2023-10-14T14:15:00.445477600Z",
     "start_time": "2023-10-14T14:15:00.318846Z"
    }
   },
   "id": "79fff3c49663db5"
  },
  {
   "cell_type": "markdown",
   "source": [
    "## According to the graph, The store at Denver made the most sales, followed by Seattle and London Store."
   ],
   "metadata": {
    "collapsed": false
   },
   "id": "21e386707cf82fe9"
  },
  {
   "cell_type": "markdown",
   "source": [
    "# 3. Show rankings of each store (location).\n"
   ],
   "metadata": {
    "collapsed": false
   },
   "id": "b7e0f9816fc7a58a"
  },
  {
   "cell_type": "markdown",
   "source": [
    "## This following section is based on the assumption that rankings means the average satisfaction score given by customers (in each transaction) for each store."
   ],
   "metadata": {
    "collapsed": false
   },
   "id": "a0ec7843f0c7a452"
  },
  {
   "cell_type": "markdown",
   "source": [
    "## 3.1 Average Satisfaction score for each store "
   ],
   "metadata": {
    "collapsed": false
   },
   "id": "ae5925991c8a5c36"
  },
  {
   "cell_type": "code",
   "execution_count": 165,
   "outputs": [
    {
     "data": {
      "text/plain": "<Figure size 1000x600 with 1 Axes>",
      "image/png": "[encoded data removed]"
     },
     "metadata": {},
     "output_type": "display_data"
    },
    {
     "data": {
      "text/plain": "               satisfaction\nstoreLocation              \nNew York           3.802395\nLondon             3.802267\nDenver             3.799871\nSeattle            3.790123\nSan Diego          3.789017\nAustin             3.767751",
      "text/html": "<div>\n<style scoped>\n    .dataframe tbody tr th:only-of-type {\n        vertical-align: middle;\n    }\n\n    .dataframe tbody tr th {\n        vertical-align: top;\n    }\n\n    .dataframe thead th {\n        text-align: right;\n    }\n</style>\n<table border=\"1\" class=\"dataframe\">\n  <thead>\n    <tr style=\"text-align: right;\">\n      <th></th>\n      <th>satisfaction</th>\n    </tr>\n    <tr>\n      <th>storeLocation</th>\n      <th></th>\n    </tr>\n  </thead>\n  <tbody>\n    <tr>\n      <th>New York</th>\n      <td>3.802395</td>\n    </tr>\n    <tr>\n      <th>London</th>\n      <td>3.802267</td>\n    </tr>\n    <tr>\n      <th>Denver</th>\n      <td>3.799871</td>\n    </tr>\n    <tr>\n      <th>Seattle</th>\n      <td>3.790123</td>\n    </tr>\n    <tr>\n      <th>San Diego</th>\n      <td>3.789017</td>\n    </tr>\n    <tr>\n      <th>Austin</th>\n      <td>3.767751</td>\n    </tr>\n  </tbody>\n</table>\n</div>"
     },
     "execution_count": 165,
     "metadata": {},
     "output_type": "execute_result"
    }
   ],
   "source": [
    "result = sales_df[[\"storeLocation\", \"satisfaction\"]].groupby(\"storeLocation\").mean().sort_values(by=\"satisfaction\", ascending=False)\n",
    "\n",
    "plt.figure(figsize=(10, 6))\n",
    "plt.bar(result.index, result['satisfaction'])\n",
    "plt.ylim(3.75, 3.81)\n",
    "plt.xlabel('Store Location')\n",
    "plt.ylabel('Average Satisfaction')\n",
    "plt.title('Average Satisfaction by Store Location')\n",
    "plt.show()\n",
    "result"
   ],
   "metadata": {
    "collapsed": false,
    "ExecuteTime": {
     "end_time": "2023-10-14T16:35:23.213954900Z",
     "start_time": "2023-10-14T16:35:23.068562Z"
    }
   },
   "id": "defa718b6e7684f9"
  },
  {
   "cell_type": "markdown",
   "source": [
    "## According to the graph and table, the store at New York has the highest average satisfaction score which puts the New York store at rank number 1, followed by the store at London and Denver as rank 2 and 3 respectively. Overall, the satisfaction score for every store are pretty much the same."
   ],
   "metadata": {
    "collapsed": false
   },
   "id": "1c0b6c7eb82c949"
  },
  {
   "cell_type": "markdown",
   "source": [
    "# 4. Show purchased method by gender table\n"
   ],
   "metadata": {
    "collapsed": false
   },
   "id": "c73957646abc7785"
  },
  {
   "cell_type": "code",
   "execution_count": 174,
   "outputs": [
    {
     "data": {
      "text/plain": "purchaseMethod  Online  In store\ngender                          \nMale               772      1389\nFemale             813      1430",
      "text/html": "<div>\n<style scoped>\n    .dataframe tbody tr th:only-of-type {\n        vertical-align: middle;\n    }\n\n    .dataframe tbody tr th {\n        vertical-align: top;\n    }\n\n    .dataframe thead th {\n        text-align: right;\n    }\n</style>\n<table border=\"1\" class=\"dataframe\">\n  <thead>\n    <tr style=\"text-align: right;\">\n      <th>purchaseMethod</th>\n      <th>Online</th>\n      <th>In store</th>\n    </tr>\n    <tr>\n      <th>gender</th>\n      <th></th>\n      <th></th>\n    </tr>\n  </thead>\n  <tbody>\n    <tr>\n      <th>Male</th>\n      <td>772</td>\n      <td>1389</td>\n    </tr>\n    <tr>\n      <th>Female</th>\n      <td>813</td>\n      <td>1430</td>\n    </tr>\n  </tbody>\n</table>\n</div>"
     },
     "execution_count": 174,
     "metadata": {},
     "output_type": "execute_result"
    }
   ],
   "source": [
    "# cross tabulation the gender and the purchase method (only Online and In-Store)\n",
    "result = pd.crosstab(sales_df[\"gender\"], sales_df[\"purchaseMethod\"])[[\"Online\", \"In store\"]]\n",
    "\n",
    "# Switch row order\n",
    "result = result.iloc[::-1]\n",
    "result"
   ],
   "metadata": {
    "collapsed": false,
    "ExecuteTime": {
     "end_time": "2023-10-14T16:47:38.327339700Z",
     "start_time": "2023-10-14T16:47:38.298532200Z"
    }
   },
   "id": "9170750b6de3cbd6"
  },
  {
   "cell_type": "markdown",
   "source": [
    "# 5. Show monthly total sales\n"
   ],
   "metadata": {
    "collapsed": false
   },
   "id": "cdab013a75f071d5"
  },
  {
   "cell_type": "code",
   "execution_count": null,
   "outputs": [],
   "source": [],
   "metadata": {
    "collapsed": false,
    "ExecuteTime": {
     "start_time": "2023-10-14T13:28:58.400244500Z"
    }
   },
   "id": "41600f731755600f"
  }
 ],
 "metadata": {
  "kernelspec": {
   "display_name": "Python 3",
   "language": "python",
   "name": "python3"
  },
  "language_info": {
   "codemirror_mode": {
    "name": "ipython",
    "version": 2
   },
   "file_extension": ".py",
   "mimetype": "text/x-python",
   "name": "python",
   "nbconvert_exporter": "python",
   "pygments_lexer": "ipython2",
   "version": "2.7.6"
  }
 },
 "nbformat": 4,
 "nbformat_minor": 5
}
